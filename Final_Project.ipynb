{
  "cells": [
    {
      "cell_type": "code",
      "execution_count": null,
      "metadata": {
        "id": "Ptl6vTKCm8Az"
      },
      "outputs": [],
      "source": [
        "from tqdm import tqdm\n",
        "import pandas as pd\n",
        "import numpy as np\n",
        "import random\n",
        "import json\n",
        "import gzip\n",
        "import csv\n",
        "import os\n",
        "\n",
        "\"\"\"\n",
        "# Only used for training, no need once models are done\n",
        "\n",
        "import torch\n",
        "import torch.nn as nn\n",
        "import torch.nn.functional as F\n",
        "import torchvision.models as models\n",
        "import torchvision.transforms as transforms\n",
        "from torch.utils.data import Dataset, DataLoader\n",
        "\"\"\"\n",
        "\n",
        "import matplotlib.pyplot as plt\n",
        "\n",
        "from sklearn.cluster import KMeans\n",
        "from sklearn.mixture import GaussianMixture\n",
        "from sklearn.preprocessing import StandardScaler\n",
        "from sklearn.preprocessing import MultiLabelBinarizer\n",
        "from sklearn.metrics.pairwise import euclidean_distances\n",
        "from sklearn.metrics.pairwise import cosine_similarity\n",
        "from sklearn.pipeline import Pipeline\n",
        "from collections import defaultdict"
      ]
    },
    {
      "cell_type": "markdown",
      "metadata": {
        "id": "oguqOB_AprpT"
      },
      "source": [
        "# **ECS750P AI Final Project**\n",
        "---\n",
        "\n",
        "## **Music Recommender Systems**\n",
        "Project author: Augustin Dirand\n",
        "\n",
        "Website implemented by: [Mathieu Harmant](https://harmant-mathieu.fr/)\n",
        "\n",
        "Website implementation of the recommenders is available at: https://muse.augustindirand.com\n",
        "\n",
        "---\n",
        "---\n"
      ]
    },
    {
      "cell_type": "markdown",
      "metadata": {
        "id": "6q0AjmC_mBD_"
      },
      "source": [
        "# **Jukebox representations processing**"
      ]
    },
    {
      "cell_type": "code",
      "execution_count": null,
      "metadata": {
        "cellView": "form",
        "id": "IG_jm8uRViEs"
      },
      "outputs": [],
      "source": [
        "#@title Download models' weights (Only needed once)\n",
        "\n",
        "from google.colab import drive\n",
        "drive.mount('drive')\n",
        "\n",
        "!wget https://openaipublic.azureedge.net/jukebox/models/5b/vqvae.pth.tar -O drive/MyDrive/Models/Jukemir/vqvae.pth.tar\n",
        "!wget https://openaipublic.azureedge.net/jukebox/models/5b/prior_level_2.pth.tar -O drive/MyDrive/Models/Jukemir/prior_level_2.pth.tar"
      ]
    },
    {
      "cell_type": "markdown",
      "metadata": {
        "id": "E7m2wompKp1W"
      },
      "source": [
        "---"
      ]
    },
    {
      "cell_type": "markdown",
      "metadata": {
        "id": "oTpvg8QjnUHn"
      },
      "source": [
        "## **CALM Initialization** (from Jukemir colab)"
      ]
    },
    {
      "cell_type": "code",
      "execution_count": null,
      "metadata": {
        "cellView": "form",
        "id": "-MLnc_Eodw4p"
      },
      "outputs": [],
      "source": [
        "#@title Installation\n",
        "\n",
        "# jukebox codebase\n",
        "!pip install git+https://github.com/Broccaloo/jukebox.git\n",
        "\n",
        "# Useful packages\n",
        "!pip install wget accelerate"
      ]
    },
    {
      "cell_type": "code",
      "execution_count": null,
      "metadata": {
        "cellView": "form",
        "colab": {
          "base_uri": "https://localhost:8080/"
        },
        "id": "WaVlMb_9eFep",
        "outputId": "f0eae83f-15de-41d5-c7d6-d162c2f0311b"
      },
      "outputs": [
        {
          "name": "stdout",
          "output_type": "stream",
          "text": [
            "Writing make_models.py.patched\n"
          ]
        }
      ],
      "source": [
        "#@title Create patch file for make_models.py\n",
        "%%writefile make_models.py.patched\n",
        "--- make_models.py\t2022-09-11 11:45:47.000000000 -0400\n",
        "+++ make_models.py.patched\t2022-09-11 12:06:46.000000000 -0400\n",
        "@@ -14,6 +14,9 @@\n",
        " from jukebox.vqvae.vqvae import calculate_strides\n",
        " import fire\n",
        "\n",
        "+import wget\n",
        "+import sys\n",
        "+\n",
        " MODELS = {\n",
        "     '5b': (\"vqvae\", \"upsampler_level_0\", \"upsampler_level_1\", \"prior_5b\"),\n",
        "     '5b_lyrics': (\"vqvae\", \"upsampler_level_0\", \"upsampler_level_1\", \"prior_5b_lyrics\"),\n",
        "@@ -31,7 +34,15 @@\n",
        "             if not os.path.exists(os.path.dirname(local_path)):\n",
        "                 os.makedirs(os.path.dirname(local_path))\n",
        "             if not os.path.exists(local_path):\n",
        "-                download(remote_path, local_path)\n",
        "+                # create this bar_progress method which is invoked automatically from wget\n",
        "+                def bar_progress(current, total, width=80):\n",
        "+                  progress_message = \"Downloading: %d%% [%d / %d] bytes\" % (current / total * 100, current, total)\n",
        "+                  # Don't use print() as it will print in new line every time.\n",
        "+                  sys.stdout.write(\"\\r\" + progress_message)\n",
        "+                  sys.stdout.flush()\n",
        "+\n",
        "+                wget.download(remote_path, local_path, bar=bar_progress)\n",
        "+                #download(remote_path, local_path)\n",
        "         restore = local_path\n",
        "     dist.barrier()\n",
        "     checkpoint = t.load(restore, map_location=t.device('cpu'))\n",
        "@@ -58,7 +69,7 @@\n",
        "         #     if checkpoint_hps.get(k, None) != hps.get(k, None):\n",
        "         #         print(k, \"Checkpoint:\", checkpoint_hps.get(k, None), \"Ours:\", hps.get(k, None))\n",
        "         checkpoint['model'] = {k[7:] if k[:7] == 'module.' else k: v for k, v in checkpoint['model'].items()}\n",
        "-        model.load_state_dict(checkpoint['model'])\n",
        "+        model.load_state_dict(checkpoint['model'], strict=False)\n",
        "         if 'step' in checkpoint: model.step = checkpoint['step']\n",
        "\n",
        " def restore_opt(opt, shd, checkpoint_path):"
      ]
    },
    {
      "cell_type": "code",
      "execution_count": null,
      "metadata": {
        "cellView": "form",
        "colab": {
          "base_uri": "https://localhost:8080/"
        },
        "id": "gJgdAeELeIS-",
        "outputId": "77ff6dec-4959-405a-c69f-d1f99483a044"
      },
      "outputs": [
        {
          "name": "stdout",
          "output_type": "stream",
          "text": [
            "patching file /usr/local/lib/python3.10/dist-packages/jukebox/make_models.py\n"
          ]
        }
      ],
      "source": [
        "#@title Patch it\n",
        "!patch /usr/local/lib/python3.10/dist-packages/jukebox/make_models.py make_models.py.patched"
      ]
    },
    {
      "cell_type": "code",
      "execution_count": null,
      "metadata": {
        "cellView": "form",
        "colab": {
          "base_uri": "https://localhost:8080/"
        },
        "id": "Kk-Z84vkeKXj",
        "outputId": "3464718c-1c24-4daa-d1db-81e81af0fc00"
      },
      "outputs": [
        {
          "name": "stdout",
          "output_type": "stream",
          "text": [
            "Drive already mounted at drive; to attempt to forcibly remount, call drive.mount(\"drive\", force_remount=True).\n",
            "Loading 5b model from gdrive\n",
            "Using cuda True\n",
            "Restored from drive/MyDrive/Models/Jukemir/vqvae.pth.tar\n",
            "0: Loading vqvae in eval mode\n",
            "Loading artist IDs from /usr/local/lib/python3.10/dist-packages/jukebox/data/ids/v2_artist_ids.txt\n",
            "Loading artist IDs from /usr/local/lib/python3.10/dist-packages/jukebox/data/ids/v2_genre_ids.txt\n",
            "Level:2, Cond downsample:None, Raw to tokens:128, Sample length:1048576\n",
            "0: Converting to fp16 params\n",
            "Restored from drive/MyDrive/Models/Jukemir/prior_level_2.pth.tar\n",
            "0: Loading prior in eval mode\n"
          ]
        },
        {
          "name": "stderr",
          "output_type": "stream",
          "text": [
            "100%|██████████| 872/872 [00:02<00:00, 372.72it/s]\n",
            "100%|██████████| 669/669 [00:00<00:00, 16493.60it/s]\n"
          ]
        }
      ],
      "source": [
        "#@title Set up hyperparameters + load model\n",
        "load_cache_gdrive = True #@param {type:\"boolean\"}\n",
        "gdrive_cache_dir = 'drive/MyDrive/Models/Jukemir'\n",
        "\n",
        "import os\n",
        "import shutil\n",
        "from pathlib import Path\n",
        "\n",
        "VQVAE_CACHE_PATH = '/root/.cache/jukebox/model/vqvae.pth.tar'\n",
        "PRIOR_CACHE_PATH = '/root/.cache/jukebox/model/prior_level_2.pth.tar'\n",
        "\n",
        "if load_cache_gdrive:\n",
        "  from google.colab import drive\n",
        "  drive.mount('drive')\n",
        "\n",
        "  # Assume that if prior level 2 isn't downloaded then then lighter vqvae neither\n",
        "  if os.path.exists(\"/root/.cache/jukebox/model/prior_level_2.pth.tar\") == False:\n",
        "    if os.path.exists(\"drive/MyDrive/Models/Jukemir/prior_level_2.pth.tar\") == False:\n",
        "      print(\"5b model not stored in Google Drive. It should be downloaded first.\")\n",
        "    else:\n",
        "      print(\"Loading 5b model from gdrive\")\n",
        "\n",
        "    VQVAE_CACHE_PATH = gdrive_cache_dir + '/vqvae.pth.tar'\n",
        "    PRIOR_CACHE_PATH = gdrive_cache_dir + '/prior_level_2.pth.tar'\n",
        "\n",
        "    os.makedirs(gdrive_cache_dir, exist_ok=True)\n",
        "\n",
        "else:\n",
        "    os.makedirs(Path(VQVAE_CACHE_PATH).parent, exist_ok=True)\n",
        "\n",
        "# imports and set up Jukebox's multi-GPU parallelization\n",
        "import jukebox\n",
        "from jukebox.hparams import Hyperparams, setup_hparams\n",
        "from jukebox.make_models import MODELS, make_prior, make_vqvae\n",
        "from jukebox.utils.dist_utils import setup_dist_from_mpi\n",
        "from tqdm import tqdm\n",
        "\n",
        "from accelerate import init_empty_weights\n",
        "\n",
        "# Set up MPI\n",
        "rank, local_rank, device = setup_dist_from_mpi()\n",
        "\n",
        "# Set up VQVAE\n",
        "model = \"5b\"\n",
        "hps = Hyperparams()\n",
        "hps.sr = 44100\n",
        "hps.n_samples = 3 if model == \"5b_lyrics\" else 8\n",
        "hps.name = \"samples\"\n",
        "chunk_size = 16 if model == \"5b_lyrics\" else 32\n",
        "max_batch_size = 3 if model == \"5b_lyrics\" else 16\n",
        "hps.levels = 3\n",
        "hps.hop_fraction = [0.5, 0.5, 0.125]\n",
        "vqvae, *priors = MODELS[model]\n",
        "\n",
        "hparams = setup_hparams(vqvae, dict(sample_length=1048576))\n",
        "\n",
        "if load_cache_gdrive:\n",
        "    hparams.restore_vqvae = VQVAE_CACHE_PATH\n",
        "\n",
        "# don't actually load any weights in yet,\n",
        "# leave it for later. memory optimization\n",
        "with init_empty_weights():\n",
        "    vqvae = make_vqvae(\n",
        "        hparams, 'meta'#device\n",
        "    )\n",
        "\n",
        "# Set up language model\n",
        "hparams = setup_hparams(priors[-1], dict())\n",
        "\n",
        "# IMPORTANT LINE: only include layers UP TO prior_depth\n",
        "#hparams[\"prior_depth\"] = 72\n",
        "\n",
        "if load_cache_gdrive:\n",
        "    hparams.restore_prior = PRIOR_CACHE_PATH\n",
        "\n",
        "# don't actually load any weights in yet,\n",
        "# leave it for later. memory optimization\n",
        "with init_empty_weights():\n",
        "    top_prior = make_prior(hparams, vqvae, 'meta')#device)\n",
        "\n",
        "# flips a bit that tells the model to return activations\n",
        "# instead of projecting to tokens and getting loss for\n",
        "# forward pass\n",
        "top_prior.prior.only_encode = True\n",
        "\n",
        "##############################################\n",
        "# actually loading in the model weights now! #\n",
        "##############################################\n",
        "\n",
        "import torch\n",
        "from tqdm import tqdm\n",
        "import torch.nn as nn\n",
        "\n",
        "top_prior_weights = torch.load(PRIOR_CACHE_PATH, map_location='cpu')\n",
        "\n",
        "def set_module_tensor_to_device(\n",
        "    module: nn.Module, tensor_name: str, device, value=None\n",
        "):\n",
        "    \"\"\"\n",
        "    A helper function to set a given tensor (parameter of buffer) of a module on a specific device (note that doing\n",
        "    `param.to(device)` creates a new tensor not linked to the parameter, which is why we need this function).\n",
        "    Args:\n",
        "        module (`torch.nn.Module`): The module in which the tensor we want to move lives.\n",
        "        param_name (`str`): The full name of the parameter/buffer.\n",
        "        device (`int`, `str` or `torch.device`): The device on which to set the tensor.\n",
        "        value (`torch.Tensor`, *optional*): The value of the tensor (useful when going from the meta device to any\n",
        "            other device).\n",
        "    \"\"\"\n",
        "    # Recurse if needed\n",
        "    if \".\" in tensor_name:\n",
        "        splits = tensor_name.split(\".\")\n",
        "        for split in splits[:-1]:\n",
        "            new_module = getattr(module, split)\n",
        "            if new_module is None:\n",
        "                raise ValueError(f\"{module} has no attribute {split}.\")\n",
        "            module = new_module\n",
        "        tensor_name = splits[-1]\n",
        "\n",
        "    if tensor_name not in module._parameters and tensor_name not in module._buffers:\n",
        "        raise ValueError(f\"{module} does not have a parameter or a buffer named {tensor_name}.\")\n",
        "    is_buffer = tensor_name in module._buffers\n",
        "    old_value = getattr(module, tensor_name)\n",
        "\n",
        "    if old_value.device == torch.device(\"meta\") and device not in [\"meta\", torch.device(\"meta\")] and value is None:\n",
        "        raise ValueError(f\"{tensor_name} is on the meta device, we need a `value` to put in on {device}.\")\n",
        "\n",
        "    with torch.no_grad():\n",
        "        if value is None:\n",
        "            new_value = old_value.to(device)\n",
        "        elif isinstance(value, torch.Tensor):\n",
        "            new_value = value.to(device)\n",
        "        else:\n",
        "            new_value = torch.tensor(value, device=device)\n",
        "\n",
        "        if is_buffer:\n",
        "            module._buffers[tensor_name] = new_value\n",
        "        elif value is not None or torch.device(device) != module._parameters[tensor_name].device:\n",
        "            param_cls = type(module._parameters[tensor_name])\n",
        "            kwargs = module._parameters[tensor_name].__dict__\n",
        "            new_value = param_cls(new_value, requires_grad=old_value.requires_grad, **kwargs).to(device)\n",
        "            module._parameters[tensor_name] = new_value\n",
        "\n",
        "# load_state_dict, basically\n",
        "for k in tqdm(top_prior_weights['model'].keys()):\n",
        "    set_module_tensor_to_device(top_prior, k, 'cuda', value=top_prior_weights['model'][k])\n",
        "\n",
        "del top_prior_weights\n",
        "\n",
        "import gc\n",
        "gc.collect()\n",
        "\n",
        "vqvae_weights = torch.load(VQVAE_CACHE_PATH, map_location='cpu')\n",
        "\n",
        "for k in tqdm(vqvae_weights['model'].keys()):\n",
        "    set_module_tensor_to_device(vqvae, k, 'cuda', value=vqvae_weights['model'][k])"
      ]
    },
    {
      "cell_type": "code",
      "execution_count": null,
      "metadata": {
        "cellView": "form",
        "id": "2kaF0jfYeSmd"
      },
      "outputs": [],
      "source": [
        "#@title Jukebox extraction code\n",
        "\n",
        "###########################\n",
        "# Jukebox extraction code #\n",
        "###########################\n",
        "\n",
        "# Note: this code was written by reverse-engineering the model, which entailed\n",
        "# combing through https://github.com/openai/jukebox all the way down the stack\n",
        "# trace together with the readily-executable Colab example https://colab.research.google.com/github/openai/jukebox/blob/master/jukebox/Interacting_with_Jukebox.ipynb\n",
        "# and modifying values as necessary to get what we needed.\n",
        "\n",
        "import librosa as lr\n",
        "import torch\n",
        "import torch as t\n",
        "import gc\n",
        "import numpy as np\n",
        "\n",
        "JUKEBOX_SAMPLE_RATE = 44100\n",
        "T = 8192\n",
        "\n",
        "# 1048576 found in paper, last page\n",
        "DEFAULT_DURATION = 1048576 / JUKEBOX_SAMPLE_RATE\n",
        "\n",
        "VQVAE_RATE = T / DEFAULT_DURATION\n",
        "\n",
        "def empty_cache():\n",
        "    torch.cuda.empty_cache()\n",
        "    gc.collect()\n",
        "\n",
        "def load_audio_from_file(fpath, offset=0.0, duration=None):\n",
        "    if duration is not None:\n",
        "        audio, _ = lr.load(fpath,\n",
        "                           sr=JUKEBOX_SAMPLE_RATE,\n",
        "                           offset=offset,\n",
        "                           duration=duration)\n",
        "    else:\n",
        "        audio, _ = lr.load(fpath,\n",
        "                           sr=JUKEBOX_SAMPLE_RATE,\n",
        "                           offset=offset)\n",
        "\n",
        "    if audio.ndim == 1:\n",
        "        audio = audio[np.newaxis]\n",
        "    audio = audio.mean(axis=0)\n",
        "\n",
        "    # normalize audio\n",
        "    norm_factor = np.abs(audio).max()\n",
        "    if norm_factor > 0:\n",
        "        audio /= norm_factor\n",
        "\n",
        "    return audio.flatten()\n",
        "\n",
        "\n",
        "def get_z(audio):\n",
        "    # don't compute unnecessary discrete encodings\n",
        "    audio = audio[: JUKEBOX_SAMPLE_RATE * 25]\n",
        "\n",
        "    zs = vqvae.encode(torch.cuda.FloatTensor(audio[np.newaxis, :, np.newaxis]))\n",
        "\n",
        "    z = zs[-1].flatten()[np.newaxis, :]\n",
        "\n",
        "    return z\n",
        "\n",
        "\n",
        "def get_cond(hps, top_prior):\n",
        "    # model only accepts sample length conditioning of\n",
        "    # >60 seconds\n",
        "    sample_length_in_seconds = 62\n",
        "\n",
        "    hps.sample_length = (\n",
        "        int(sample_length_in_seconds * hps.sr) // top_prior.raw_to_tokens\n",
        "    ) * top_prior.raw_to_tokens\n",
        "\n",
        "    # NOTE: the 'lyrics' parameter is required, which is why it is included,\n",
        "    # but it doesn't actually change anything about the `x_cond`, `y_cond`,\n",
        "    # nor the `prime` variables. The `prime` variable is supposed to represent\n",
        "    # the lyrics, but the LM prior we're using does not condition on lyrics,\n",
        "    # so it's just an empty tensor.\n",
        "    metas = [\n",
        "        dict(\n",
        "            artist=\"unknown\",\n",
        "            genre=\"unknown\",\n",
        "            total_length=hps.sample_length,\n",
        "            offset=0,\n",
        "            lyrics=\"\"\"lyrics go here!!!\"\"\",\n",
        "        ),\n",
        "    ] * hps.n_samples\n",
        "\n",
        "    labels = [None, None, top_prior.labeller.get_batch_labels(metas, \"cuda\")]\n",
        "\n",
        "    x_cond, y_cond, prime = top_prior.get_cond(None, top_prior.get_y(labels[-1], 0))\n",
        "\n",
        "    x_cond = x_cond[0, :T][np.newaxis, ...]\n",
        "    y_cond = y_cond[0][np.newaxis, ...]\n",
        "\n",
        "    return x_cond, y_cond\n",
        "\n",
        "def downsample(representation,\n",
        "               target_rate=30,\n",
        "               method=None):\n",
        "    if method is None:\n",
        "        method = 'librosa_fft'\n",
        "\n",
        "    if method == 'librosa_kaiser':\n",
        "        resampled_reps = lr.resample(np.asfortranarray(representation.T),\n",
        "                                     T / DEFAULT_DURATION,\n",
        "                                     target_rate).T\n",
        "    elif method in ['librosa_fft', 'librosa_scipy']:\n",
        "        resampled_reps = lr.resample(np.asfortranarray(representation.T),\n",
        "                                     T / DEFAULT_DURATION,\n",
        "                                     target_rate,\n",
        "                                     res_type='fft').T\n",
        "    elif method == 'mean':\n",
        "        raise NotImplementedError\n",
        "\n",
        "    return resampled_reps\n",
        "\n",
        "def get_final_activations(z, x_cond, y_cond, top_prior):\n",
        "\n",
        "    x = z[:, :T]\n",
        "\n",
        "    input_length = x.shape[1]\n",
        "\n",
        "    if x.shape[1] < T:\n",
        "        # arbitrary choices\n",
        "        min_token = 0\n",
        "        max_token = 100\n",
        "\n",
        "        x = torch.cat((x,\n",
        "                       torch.randint(min_token, max_token, size=(1, T - input_length,), device='cuda')),\n",
        "                      dim=-1)\n",
        "\n",
        "    # encoder_kv and fp16 are set to the defaults, but explicitly so\n",
        "    out = top_prior.prior.forward(\n",
        "        x, x_cond=x_cond, y_cond=y_cond, encoder_kv=None, fp16=False\n",
        "    )\n",
        "\n",
        "    # chop off, in case input was already chopped\n",
        "    out = out[:,:input_length]\n",
        "\n",
        "    return out\n",
        "\n",
        "def roll(x, n):\n",
        "    return t.cat((x[:, -n:], x[:, :-n]), dim=1)\n",
        "\n",
        "def get_activations_custom(x,\n",
        "                           x_cond,\n",
        "                           y_cond,\n",
        "                           layers_to_extract=None,\n",
        "                           fp16=False,\n",
        "                           fp16_out=False):\n",
        "\n",
        "    # this function is adapted from:\n",
        "    # https://github.com/openai/jukebox/blob/08efbbc1d4ed1a3cef96e08a931944c8b4d63bb3/jukebox/prior/autoregressive.py#L116\n",
        "\n",
        "    # custom jukemir stuff\n",
        "    if layers_to_extract is None:\n",
        "        layers_to_extract = [36]\n",
        "\n",
        "    x = x[:,:T]  # limit to max context window of Jukebox\n",
        "\n",
        "    input_seq_length = x.shape[1]\n",
        "\n",
        "    # chop x_cond if input is short\n",
        "    x_cond = x_cond[:, :input_seq_length]\n",
        "\n",
        "    # Preprocess.\n",
        "    with t.no_grad():\n",
        "        x = top_prior.prior.preprocess(x)\n",
        "\n",
        "    N, D = x.shape\n",
        "    assert isinstance(x, t.cuda.LongTensor)\n",
        "    assert (0 <= x).all() and (x < top_prior.prior.bins).all()\n",
        "\n",
        "    if top_prior.prior.y_cond:\n",
        "        assert y_cond is not None\n",
        "        assert y_cond.shape == (N, 1, top_prior.prior.width)\n",
        "    else:\n",
        "        assert y_cond is None\n",
        "\n",
        "    if top_prior.prior.x_cond:\n",
        "        assert x_cond is not None\n",
        "        assert x_cond.shape == (N, D, top_prior.prior.width) or x_cond.shape == (N, 1, top_prior.prior.width), f\"{x_cond.shape} != {(N, D, top_prior.prior.width)} nor {(N, 1, top_prior.prior.width)}. Did you pass the correct --sample_length?\"\n",
        "    else:\n",
        "        assert x_cond is None\n",
        "        x_cond = t.zeros((N, 1, top_prior.prior.width), device=x.device, dtype=t.float)\n",
        "\n",
        "    x_t = x # Target\n",
        "    # self.x_emb is just a straightforward embedding, no trickery here\n",
        "    x = top_prior.prior.x_emb(x) # X emb\n",
        "    # this is to be able to fit in a start token/conditioning info: just shift to the right by 1\n",
        "    x = roll(x, 1) # Shift by 1, and fill in start token\n",
        "    # self.y_cond == True always, so we just use y_cond here\n",
        "    if top_prior.prior.y_cond:\n",
        "        x[:,0] = y_cond.view(N, top_prior.prior.width)\n",
        "    else:\n",
        "        x[:,0] = top_prior.prior.start_token\n",
        "\n",
        "    # for some reason, p=0.0, so the dropout stuff does absolutely nothing\n",
        "    x = top_prior.prior.x_emb_dropout(x) + top_prior.prior.pos_emb_dropout(top_prior.prior.pos_emb())[:input_seq_length] + x_cond # Pos emb and dropout\n",
        "\n",
        "    layers = top_prior.prior.transformer._attn_mods\n",
        "\n",
        "    reps = {}\n",
        "\n",
        "    if fp16:\n",
        "        x = x.half()\n",
        "\n",
        "    for i, l in enumerate(layers):\n",
        "        # to be able to take in shorter clips, we set sample to True,\n",
        "        # but as a consequence the forward function becomes stateful\n",
        "        # and its state changes when we apply a layer (attention layer\n",
        "        # stores k/v's to cache), so we need to clear its cache religiously\n",
        "        l.attn.del_cache()\n",
        "\n",
        "        x = l(x, encoder_kv=None, sample=True)\n",
        "\n",
        "        l.attn.del_cache()\n",
        "\n",
        "        if i + 1 in layers_to_extract:\n",
        "            reps[i + 1] = np.array(x.squeeze().cpu())\n",
        "\n",
        "            # break if this is the last one we care about\n",
        "            if layers_to_extract.index(i + 1) == len(layers_to_extract) - 1:\n",
        "                break\n",
        "\n",
        "    return reps\n",
        "\n",
        "\n",
        "# important, gradient info takes up too much space,\n",
        "# causes CUDA OOM\n",
        "@torch.no_grad()\n",
        "def get_acts_from_audio(audio=None,\n",
        "                        fpath=None,\n",
        "                        meanpool=False,\n",
        "                        # pick which layer(s) to extract from\n",
        "                        layers=None,\n",
        "                        # pick which part of the clip to load in\n",
        "                        offset=0.0,\n",
        "                        duration=None,\n",
        "                        # downsampling frame-wise reps\n",
        "                        downsample_target_rate=None,\n",
        "                        downsample_method=None,\n",
        "                        # for speed-saving\n",
        "                        fp16=False,\n",
        "                        # for space-saving\n",
        "                        fp16_out=False,\n",
        "                        # for GPU VRAM. potentially slows it\n",
        "                        # down but we clean up garbage VRAM.\n",
        "                        # disable if your GPU has a lot of memory\n",
        "                        # or if you're extracting from earlier\n",
        "                        # layers.\n",
        "                        force_empty_cache=True):\n",
        "\n",
        "    # main function that runs extraction end-to-end.\n",
        "\n",
        "    if layers is None:\n",
        "        layers = [36]  # by default\n",
        "\n",
        "    if audio is None:\n",
        "        assert fpath is not None\n",
        "        audio = load_audio_from_file(fpath, offset=offset, duration=duration)\n",
        "    elif fpath is None:\n",
        "        assert audio is not None\n",
        "\n",
        "    if force_empty_cache: empty_cache()\n",
        "\n",
        "    # run vq-vae on the audio to get discretized audio\n",
        "    z = get_z(audio)\n",
        "\n",
        "    if force_empty_cache: empty_cache()\n",
        "\n",
        "    # get conditioning info\n",
        "    x_cond, y_cond = get_cond(hps, top_prior)\n",
        "\n",
        "    if force_empty_cache: empty_cache()\n",
        "\n",
        "    # get the activations from the LM\n",
        "    acts = get_activations_custom(z,\n",
        "                                  x_cond,\n",
        "                                  y_cond,\n",
        "                                  layers_to_extract=layers,\n",
        "                                  fp16=fp16,\n",
        "                                  fp16_out=fp16_out)\n",
        "\n",
        "    if force_empty_cache: empty_cache()\n",
        "\n",
        "    # postprocessing\n",
        "    if downsample_target_rate is not None:\n",
        "        for num in acts.keys():\n",
        "            acts[num] = downsample(acts[num],\n",
        "                                   target_rate=downsample_target_rate,\n",
        "                                   method=downsample_method)\n",
        "\n",
        "    if meanpool:\n",
        "        acts = {num: act.mean(axis=0) for num, act in acts.items()}\n",
        "\n",
        "    if not fp16_out:\n",
        "        acts = {num: act.astype(np.float32) for num, act in acts.items()}\n",
        "\n",
        "    return acts\n"
      ]
    },
    {
      "cell_type": "markdown",
      "metadata": {
        "id": "EcocTOanebnN"
      },
      "source": [
        "## **Extract mean-pooled intermediate representations** (from Jukemir colab)\n",
        "\n",
        "Here, we'll demonstrate extracting mean-pooled intermediate representations from our example clip. We'll be extracting from *layer 36*, which is exactly in the center. It'll only take a couple of lines of code!\n",
        "\n",
        "First, we get the audio from the given file. This will apply the same preprocessing as we applied to obtain the results in our paper (resample to `JUKEBOX_SAMPLE_RATE`, mean across channels, then normalize)."
      ]
    },
    {
      "cell_type": "code",
      "execution_count": null,
      "metadata": {
        "cellView": "form",
        "id": "4aPsZlRzeXoG"
      },
      "outputs": [],
      "source": [
        "#@title Pick file\n",
        "from IPython.display import Audio\n",
        "\n",
        "from google.colab import files\n",
        "\n",
        "fnames = files.upload()\n",
        "\n",
        "if len(fnames.keys()) == 0:\n",
        "    fname = 'Rick Astley - Never Gonna Give You Up (Official Music Video)-dQw4w9WgXcQ.mp3'\n",
        "else:\n",
        "    fname = list(fnames.keys())[0]\n",
        "\n",
        "audio, sr = lr.load(fname,\n",
        "                    sr=None,\n",
        "                    offset=0,\n",
        "                    duration=25)\n",
        "\n",
        "Audio(data=audio, rate=sr)"
      ]
    },
    {
      "cell_type": "code",
      "execution_count": null,
      "metadata": {
        "id": "8Zp1q5Q2eaXm"
      },
      "outputs": [],
      "source": [
        "audio = load_audio_from_file(fname, offset=0.0, duration=25)"
      ]
    },
    {
      "cell_type": "markdown",
      "metadata": {
        "id": "7Q8_vowvedSN"
      },
      "source": [
        "And now we extract, passing in the audio, desired layers, and `meanpool` flag to indicate that we would like the representations meanpooled across time."
      ]
    },
    {
      "cell_type": "code",
      "execution_count": null,
      "metadata": {
        "id": "XOoYGY1fefoG"
      },
      "outputs": [],
      "source": [
        "representations = get_acts_from_audio(audio=audio,\n",
        "                                      layers=[36],\n",
        "                                      meanpool=True)\n",
        "\n",
        "print(f\"Got representations {representations}\")\n",
        "print(f\"Its shape is {representations[36].shape}\")"
      ]
    },
    {
      "cell_type": "markdown",
      "metadata": {
        "id": "hgb4Eypyegkc"
      },
      "source": [
        "As we can see, we've got a dictionary where each key represents the layer number from which the activations were taken from with their corresponding activations, and the size is 4800."
      ]
    },
    {
      "cell_type": "markdown",
      "metadata": {
        "id": "fMdRmqRaoKyI"
      },
      "source": [
        "## **Datasets Creation**"
      ]
    },
    {
      "cell_type": "markdown",
      "metadata": {
        "id": "OGmbTAVgZfrY"
      },
      "source": [
        "### Extract key & emotion songs as well as key annotations"
      ]
    },
    {
      "cell_type": "code",
      "execution_count": null,
      "metadata": {
        "id": "vbv_bgmrT-NI"
      },
      "outputs": [],
      "source": [
        "# This is to extract the melspec images from the GTZAN and DEAM datasets as to only store them during runtime\n",
        "!unzip /content/drive/MyDrive/Models/Datasets/KeyAudio.zip -d /content/KeyAudio\n",
        "\n",
        "!unzip /content/drive/MyDrive/Models/Datasets/KeyAnnotations.zip -d /content/KeyAnnotations"
      ]
    },
    {
      "cell_type": "code",
      "execution_count": null,
      "metadata": {
        "id": "Cbzucc9_XtdG"
      },
      "outputs": [],
      "source": [
        "!unzip /content/drive/MyDrive/Models/Datasets/EmoAudio.zip -d /content/EmoAudio"
      ]
    },
    {
      "cell_type": "code",
      "execution_count": null,
      "metadata": {
        "id": "RXLyIuUCSj5Z"
      },
      "outputs": [],
      "source": [
        "!unzip /content/drive/MyDrive/Models/Datasets/MTG-Jamendo/Pack4.zip -d /content/Pack4"
      ]
    },
    {
      "cell_type": "markdown",
      "metadata": {
        "id": "p-3rsK49ZqXc"
      },
      "source": [
        "### Utility functions for labels and datasets"
      ]
    },
    {
      "cell_type": "code",
      "execution_count": null,
      "metadata": {
        "id": "QNQoFL8dlSd7"
      },
      "outputs": [],
      "source": [
        "from tqdm import tqdm\n",
        "import pandas as pd\n",
        "import numpy as np\n",
        "import os\n",
        "\n",
        "# Utility functions to go from a genre/mood to its class and vice-versa\n",
        "key_class = {\"Ab minor\" : 0, \"Eb minor\" : 1, \"Bb minor\" : 2, \"F minor\" : 3, \"C minor\" : 4, \"G minor\" : 5, \"D minor\" : 6, \"A minor\" : 7, \"E minor\" : 8, \"B minor\" : 9, \"Gb minor\" : 10, \"Db minor\" : 11,\n",
        "             \"Ab major\" : 12, \"Eb major\" : 13, \"Bb major\" : 14, \"F major\" : 15, \"C major\" : 16, \"G major\" : 17, \"D major\" : 18, \"A major\" : 19, \"E major\" : 20, \"B major\" : 21, \"Gb major\" : 22, \"Db major\" : 23}\n",
        "\n",
        "# --------------------------\n",
        "def key_to_class(key):\n",
        "  for k in key_class:\n",
        "    if(k == key):\n",
        "      return key_class[key]\n",
        "\n",
        "def class_to_key(keyC):\n",
        "  for k in key_class:\n",
        "    if(key_class[k] == keyC):\n",
        "      return k\n",
        "\n",
        "# --------------------------"
      ]
    },
    {
      "cell_type": "markdown",
      "metadata": {
        "id": "1BMUbgiH9jVu"
      },
      "source": [
        "### Key set creation"
      ]
    },
    {
      "cell_type": "code",
      "execution_count": null,
      "metadata": {
        "colab": {
          "base_uri": "https://localhost:8080/"
        },
        "id": "Oc3gCp-uZ84P",
        "outputId": "8c56c639-2310-41bb-c45a-c3adb4541bf0"
      },
      "outputs": [
        {
          "name": "stderr",
          "output_type": "stream",
          "text": [
            "100%|██████████| 604/604 [37:02<00:00,  3.68s/it]"
          ]
        },
        {
          "name": "stdout",
          "output_type": "stream",
          "text": [
            "Set shape:   (604, 4800)\n",
            "[ 0.5961259   0.7797243   0.29117668 ... -0.12936585  0.22467552\n",
            "  0.02194878]\n",
            "D minor\n"
          ]
        },
        {
          "name": "stderr",
          "output_type": "stream",
          "text": [
            "\n"
          ]
        }
      ],
      "source": [
        "# Define key numpy arrays, one for Jukebox representations and one for key labels\n",
        "key_data = np.zeros((604, 4800))\n",
        "key_label = np.zeros((604))\n",
        "\n",
        "# Index to keep track of position\n",
        "idx = 0\n",
        "\n",
        "# Load image data from the GenreImage folder and labels from each image's subfolder\n",
        "audio_path = os.listdir('/content/KeyAudio')\n",
        "for song in tqdm(audio_path):\n",
        "\n",
        "  # Read audio\n",
        "  audio = load_audio_from_file('/content/KeyAudio/'+song, offset=0.0, duration=25)\n",
        "\n",
        "  # Extract representations\n",
        "  representations = get_acts_from_audio(audio=audio,\n",
        "                                      layers=[36],\n",
        "                                      meanpool=True)\n",
        "\n",
        "  # Save representations for song\n",
        "  key_data[idx] = representations[36]\n",
        "\n",
        "  # Lookup and save key label for song\n",
        "  key_file = '/content/KeyAnnotations/' + song.split(\".\")[0] + '.LOFI.key'\n",
        "  with open(key_file) as f:\n",
        "    key = f.readline()\n",
        "    key_label[idx] = key_to_class(key)\n",
        "\n",
        "  idx+=1\n",
        "\n",
        "\n",
        "# Display the shape of each set to make sure everything's alright\n",
        "print(\"Set shape:   \"f'{key_data.shape}')\n",
        "print(key_data[-1])\n",
        "print(class_to_key(key_label[-1]))"
      ]
    },
    {
      "cell_type": "markdown",
      "metadata": {
        "id": "cDzeQBsaAo3w"
      },
      "source": [
        "### Emo set creation"
      ]
    },
    {
      "cell_type": "code",
      "execution_count": null,
      "metadata": {
        "id": "YaMM35EgAo31"
      },
      "outputs": [],
      "source": [
        "# Define key numpy arrays, one for Jukebox representations and one for key labels\n",
        "emo_data = np.zeros((1802, 4800))\n",
        "emo_label = np.zeros((1802, 2))\n",
        "\n",
        "# Index to keep track of position\n",
        "idx = 0\n",
        "\n",
        "df = pd.read_csv('/content/EmoAnnotations.csv')\n",
        "\n",
        "# Load image data from the GenreImage folder and labels from each image's subfolder\n",
        "audio_path = os.listdir('/content/EmoAudio')\n",
        "for song in tqdm(audio_path):\n",
        "\n",
        "  # Read audio\n",
        "  audio = load_audio_from_file('/content/EmoAudio/'+song, offset=0.0, duration=25)\n",
        "\n",
        "  # Extract representations\n",
        "  representations = get_acts_from_audio(audio=audio,\n",
        "                                      layers=[36],\n",
        "                                      meanpool=True)\n",
        "\n",
        "  # Save representations for song\n",
        "  emo_data[idx] = representations[36]\n",
        "\n",
        "  # Lookup and save key label for song\n",
        "  id = int(song.split(\".\")[0])\n",
        "  result = df.loc[df['song_id'] == id]\n",
        "  emo_label[idx] = np.array([result.values[0][1], result.values[0][3]])\n",
        "\n",
        "  idx+=1\n",
        "\n",
        "\n",
        "# Display the shape of each set to make sure everything's alright\n",
        "print(\"Set shape:   \"f'{emo_data.shape}')\n",
        "print(emo_data[-1])\n",
        "print(emo_label[-1])"
      ]
    },
    {
      "cell_type": "markdown",
      "metadata": {
        "id": "0CH0vd_TTjFI"
      },
      "source": [
        "### Jamendo set creation"
      ]
    },
    {
      "cell_type": "code",
      "execution_count": null,
      "metadata": {
        "colab": {
          "base_uri": "https://localhost:8080/"
        },
        "id": "6TIuRSAXTjFJ",
        "outputId": "8d2bada1-bccc-4c8c-c9f3-30ceec422094"
      },
      "outputs": [
        {
          "name": "stderr",
          "output_type": "stream",
          "text": [
            "Songs in 44: 100%|██████████| 544/544 [32:08<00:00,  3.54s/it]\n",
            "Songs in 34: 100%|██████████| 548/548 [32:24<00:00,  3.55s/it]\n",
            "Songs in 37: 100%|██████████| 532/532 [31:27<00:00,  3.55s/it]\n",
            "Songs in 42: 100%|██████████| 559/559 [33:00<00:00,  3.54s/it]\n",
            "Songs in 41: 100%|██████████| 573/573 [33:49<00:00,  3.54s/it]\n",
            "Songs in 38: 100%|██████████| 550/550 [32:25<00:00,  3.54s/it]\n",
            "Songs in 33: 100%|██████████| 531/531 [31:17<00:00,  3.54s/it]\n",
            "Songs in 43: 100%|██████████| 575/575 [33:57<00:00,  3.54s/it]\n",
            "Songs in 35: 100%|██████████| 555/555 [32:43<00:00,  3.54s/it]\n",
            "Songs in 40: 100%|██████████| 569/569 [33:35<00:00,  3.54s/it]\n",
            "Songs in 36: 100%|██████████| 541/541 [31:49<00:00,  3.53s/it]\n",
            "Songs in 39: 100%|██████████| 559/559 [32:54<00:00,  3.53s/it]"
          ]
        },
        {
          "name": "stdout",
          "output_type": "stream",
          "text": [
            "Set shape:   (6636, 4800)\n",
            "[-0.12784413  0.56300873  0.53790659 ...  0.5171237   0.83866042\n",
            "  0.3162145 ]\n",
            "[1223944.]\n",
            "\n",
            "\n",
            "[0.91879219 0.61535519 0.61152095 ... 0.30506602 0.40336049 0.26296726]\n",
            "[1049739.]\n"
          ]
        },
        {
          "name": "stderr",
          "output_type": "stream",
          "text": [
            "\n"
          ]
        }
      ],
      "source": [
        "# Define key numpy arrays, one for Jukebox representations and one for key labels\n",
        "jamendo_data = np.zeros((6636, 4800))\n",
        "jamendo_id = np.zeros((6636, 1))\n",
        "\n",
        "# Index to keep track of position\n",
        "idx = 0\n",
        "\n",
        "# Load song extracts\n",
        "dir_path = os.listdir('/content/Pack4')\n",
        "for dir in dir_path:\n",
        "\n",
        "  lore = \"Songs in \"+dir\n",
        "\n",
        "  audio_path = os.listdir('/content/Pack4/'+dir)\n",
        "  for song in tqdm(audio_path, desc=lore):\n",
        "\n",
        "    # Read audio\n",
        "    audio = load_audio_from_file('/content/Pack4/'+dir+'/'+song, offset=0.0, duration=25)\n",
        "\n",
        "    # Extract representations\n",
        "    representations = get_acts_from_audio(audio=audio, layers=[36], meanpool=True)\n",
        "\n",
        "    # Save representations for song\n",
        "    jamendo_data[idx] = representations[36]\n",
        "\n",
        "    # Lookup and save key label for song\n",
        "    id = int(song.split(\".\")[0])\n",
        "    jamendo_id[idx] = id\n",
        "\n",
        "    idx+=1\n",
        "\n",
        "# Display the shape of each set to make sure everything's alright\n",
        "print(\"Set shape:   \"f'{jamendo_data.shape}')\n",
        "print(jamendo_data[0])\n",
        "print(jamendo_id[0])\n",
        "print(\"\\n\")\n",
        "print(jamendo_data[6635])\n",
        "print(jamendo_id[6635])"
      ]
    },
    {
      "cell_type": "markdown",
      "metadata": {
        "id": "ofsJUE-UEeSC"
      },
      "source": [
        "### Save numpy arrays\n",
        "\n",
        "This is necessary to work with the data after processing through Jukebox to save ressources."
      ]
    },
    {
      "cell_type": "code",
      "execution_count": null,
      "metadata": {
        "id": "jGFwuQ-YE5qm"
      },
      "outputs": [],
      "source": [
        "np.save('key_data.npy', key_data)\n",
        "np.save('key_label.npy', key_label)"
      ]
    },
    {
      "cell_type": "code",
      "execution_count": null,
      "metadata": {
        "id": "1eo716ZpfeiX"
      },
      "outputs": [],
      "source": [
        "np.save('emo_data.npy', emo_data)\n",
        "np.save('emo_label.npy', emo_label)"
      ]
    },
    {
      "cell_type": "code",
      "execution_count": null,
      "metadata": {
        "id": "DSelku7PVhSZ"
      },
      "outputs": [],
      "source": [
        "np.save('Pack4_data.npy', jamendo_data)\n",
        "np.save('Pack4_ids.npy', jamendo_id)"
      ]
    },
    {
      "cell_type": "code",
      "execution_count": null,
      "metadata": {
        "colab": {
          "base_uri": "https://localhost:8080/",
          "height": 35
        },
        "id": "eL3uQxsykl88",
        "outputId": "0fe46d81-e108-494e-c48b-98cd332c1293"
      },
      "outputs": [
        {
          "data": {
            "application/vnd.google.colaboratory.intrinsic+json": {
              "type": "string"
            },
            "text/plain": [
              "'/content/drive/MyDrive/Models/Datasets/MTG-Jamendo/Pack4_ids.npy'"
            ]
          },
          "execution_count": 21,
          "metadata": {},
          "output_type": "execute_result"
        }
      ],
      "source": [
        "import shutil\n",
        "\n",
        "shutil.copy(\"/content/Pack4_data.npy\", \"/content/drive/MyDrive/Models/Datasets/MTG-Jamendo\")\n",
        "shutil.copy(\"/content/Pack4_ids.npy\", \"/content/drive/MyDrive/Models/Datasets/MTG-Jamendo\")"
      ]
    },
    {
      "cell_type": "markdown",
      "metadata": {
        "id": "oCQe70aWhuki"
      },
      "source": [
        "# **Key/Emotion MIR Models**"
      ]
    },
    {
      "cell_type": "markdown",
      "metadata": {
        "id": "yseUv3psETON"
      },
      "source": [
        "## **Datasets Loading**"
      ]
    },
    {
      "cell_type": "markdown",
      "metadata": {
        "id": "dH-kEMGYCqtT"
      },
      "source": [
        "### Utility functions for labels and datasets"
      ]
    },
    {
      "cell_type": "code",
      "execution_count": null,
      "metadata": {
        "id": "6fPe_g7CCqtZ"
      },
      "outputs": [],
      "source": [
        "# Utility functions to go from a genre/mood to its class and vice-versa\n",
        "key_class = {\"Ab minor\" : 0, \"Eb minor\" : 1, \"Bb minor\" : 2, \"F minor\" : 3, \"C minor\" : 4, \"G minor\" : 5, \"D minor\" : 6, \"A minor\" : 7, \"E minor\" : 8, \"B minor\" : 9, \"Gb minor\" : 10, \"Db minor\" : 11,\n",
        "             \"Ab major\" : 12, \"Eb major\" : 13, \"Bb major\" : 14, \"F major\" : 15, \"C major\" : 16, \"G major\" : 17, \"D major\" : 18, \"A major\" : 19, \"E major\" : 20, \"B major\" : 21, \"Gb major\" : 22, \"Db major\" : 23}\n",
        "\n",
        "# --------------------------\n",
        "def key_to_class(key):\n",
        "  for k in key_class:\n",
        "    if(k == key):\n",
        "      return key_class[key]\n",
        "\n",
        "def class_to_key(keyC):\n",
        "  for k in key_class:\n",
        "    if(key_class[k] == keyC):\n",
        "      return k\n",
        "\n",
        "# --------------------------\n",
        "\n",
        "\n",
        "# PyTorch custom dataset to use through a DataLoader and make processing easier\n",
        "class CustomDataset(Dataset):\n",
        "  def __init__(self, data, labels, transform=None, target_transform=None):\n",
        "    self.data = data\n",
        "    self.labels = labels\n",
        "    self.transform = transform\n",
        "    self.target_transform = target_transform\n",
        "\n",
        "  def __len__(self):\n",
        "    return self.data.shape[0]\n",
        "\n",
        "  def __getitem__(self, idx):\n",
        "    image = self.data[idx]\n",
        "    label = self.labels[idx]\n",
        "\n",
        "    if self.transform:\n",
        "      image = self.transform(image)\n",
        "    if self.target_transform:\n",
        "      label = self.target_transform(label)\n",
        "\n",
        "    return image, label"
      ]
    },
    {
      "cell_type": "markdown",
      "metadata": {
        "id": "WIRDMYCeCu00"
      },
      "source": [
        "### Load data arrays & Split train and test"
      ]
    },
    {
      "cell_type": "code",
      "execution_count": null,
      "metadata": {
        "id": "IRBbYooYEagG"
      },
      "outputs": [],
      "source": [
        "key_data = np.load('/content/drive/MyDrive/Models/Datasets/key_data.npy')\n",
        "key_label = np.load('/content/drive/MyDrive/Models/Datasets/key_label.npy')\n",
        "\n",
        "emo_data = np.load('/content/drive/MyDrive/Models/Datasets/emo_data.npy')\n",
        "emo_label = np.load('/content/drive/MyDrive/Models/Datasets/emo_label.npy')"
      ]
    },
    {
      "cell_type": "code",
      "execution_count": null,
      "metadata": {
        "id": "ifowubNkyrzb"
      },
      "outputs": [],
      "source": [
        "# Standardize data\n",
        "def standardize(x):\n",
        "  x = (x - x.mean()) / x.std()\n",
        "  return x\n",
        "\n",
        "key_data = standardize(key_data)\n",
        "emo_data = standardize(emo_data)"
      ]
    },
    {
      "cell_type": "code",
      "execution_count": null,
      "metadata": {
        "id": "0IwRN8dDJyzy"
      },
      "outputs": [],
      "source": [
        "# k-fold cross-validation splits for key (could've used sklearn but meh)\n",
        "data_1 = key_data[:121,:]\n",
        "label_1 = key_label[:121]\n",
        "\n",
        "data_2 = key_data[121:242,:]\n",
        "label_2 = key_label[121:242]\n",
        "\n",
        "data_3 = key_data[242:363,:]\n",
        "label_3 = key_label[242:363]\n",
        "\n",
        "data_4 = key_data[363:484,:]\n",
        "label_4 = key_label[363:484]\n",
        "\n",
        "data_5 = key_data[484:,:]\n",
        "label_5 = key_label[484:]"
      ]
    },
    {
      "cell_type": "code",
      "execution_count": null,
      "metadata": {
        "id": "H6PdaPY_a12w"
      },
      "outputs": [],
      "source": [
        "split_ki = int(0.2 * key_data.shape[0])\n",
        "split_ei = int(0.2 * emo_data.shape[0])\n",
        "\n",
        "\n",
        "# Split for key\n",
        "\n",
        "key_train_data = key_data[split_ki:,:]\n",
        "key_valid_data = key_data[:split_ki,:]\n",
        "\n",
        "key_train_label = key_label[split_ki:]\n",
        "key_valid_label = key_label[:split_ki]\n",
        "\"\"\"\n",
        "key_train_data = np.concatenate((data_1, data_2, data_3, data_4))\n",
        "key_valid_data = data_5\n",
        "\n",
        "key_train_label = np.concatenate((label_1, label_2, label_3, label_4))\n",
        "key_valid_label = label_5\n",
        "\"\"\"\n",
        "\n",
        "\n",
        "# Split for emo\n",
        "emo_train_data = emo_data[split_ei:,:]\n",
        "emo_valid_data = emo_data[:split_ei,:]\n",
        "\n",
        "emo_train_label = emo_label[split_ei:,:]\n",
        "emo_valid_label = emo_label[:split_ei,:]"
      ]
    },
    {
      "cell_type": "markdown",
      "metadata": {
        "id": "dnm07FJKaK-B"
      },
      "source": [
        "### Create training and validation datasets"
      ]
    },
    {
      "cell_type": "code",
      "execution_count": null,
      "metadata": {
        "id": "dFzF1CQ3AaYu"
      },
      "outputs": [],
      "source": [
        "# Convert numpy arrays to torch tensors\n",
        "key_train_data = torch.from_numpy(key_train_data)\n",
        "key_valid_data = torch.from_numpy(key_valid_data)\n",
        "\n",
        "key_train_label = torch.from_numpy(key_train_label)\n",
        "key_valid_label = torch.from_numpy(key_valid_label)\n",
        "\n",
        "\n",
        "emo_train_data = torch.from_numpy(emo_train_data)\n",
        "emo_valid_data = torch.from_numpy(emo_valid_data)\n",
        "\n",
        "emo_train_label = torch.from_numpy(emo_train_label)\n",
        "emo_valid_label = torch.from_numpy(emo_valid_label)\n",
        "\n",
        "\n",
        "\n",
        "# Create custom PyTorch datasets to make training and mini-batching easier\n",
        "key_train_dataset = CustomDataset(key_train_data, key_train_label)\n",
        "key_valid_dataset = CustomDataset(key_valid_data, key_valid_label)\n",
        "\n",
        "emo_train_dataset = CustomDataset(emo_train_data, emo_train_label)\n",
        "emo_valid_dataset = CustomDataset(emo_valid_data, emo_valid_label)"
      ]
    },
    {
      "cell_type": "code",
      "execution_count": null,
      "metadata": {
        "colab": {
          "base_uri": "https://localhost:8080/"
        },
        "id": "2z_uUKBymomV",
        "outputId": "0f922ed3-9dfc-4948-ccda-22901ed72c0f"
      },
      "outputs": [
        {
          "name": "stdout",
          "output_type": "stream",
          "text": [
            "Feature batch shape: torch.Size([16, 4800])\n",
            "Labels batch shape: torch.Size([16])\n"
          ]
        }
      ],
      "source": [
        "# Create DataLoaders from datasets\n",
        "key_train_dataloader = DataLoader(key_train_dataset, batch_size=16, shuffle=True)\n",
        "key_valid_dataloader = DataLoader(key_valid_dataset, batch_size=16, shuffle=True)\n",
        "\n",
        "emo_train_dataloader = DataLoader(emo_train_dataset, batch_size=32, shuffle=True)\n",
        "emo_valid_dataloader = DataLoader(emo_valid_dataset, batch_size=32, shuffle=True)\n",
        "\n",
        "\n",
        "# Make sure datasets have been loaded correctly by printing one batch\n",
        "train_features, train_labels = next(iter(key_train_dataloader))\n",
        "print(f\"Feature batch shape: {train_features.size()}\")\n",
        "print(f\"Labels batch shape: {train_labels.size()}\")"
      ]
    },
    {
      "cell_type": "markdown",
      "metadata": {
        "id": "PcE3vodxCCYi"
      },
      "source": [
        "## **Key Model training**"
      ]
    },
    {
      "cell_type": "markdown",
      "metadata": {
        "id": "eFRUq9nxj2e6"
      },
      "source": [
        "### Define model & Evaluation function"
      ]
    },
    {
      "cell_type": "code",
      "execution_count": null,
      "metadata": {
        "id": "1d_7l5Xah2LF"
      },
      "outputs": [],
      "source": [
        "class KeyModel(nn.Module):\n",
        "    \"\"\"The CNN model\"\"\"\n",
        "    def __init__(self):\n",
        "\n",
        "        super().__init__()\n",
        "\n",
        "        # Fully connected layers\n",
        "        self.fc_layers = nn.Sequential(nn.Linear(4800, 512),\n",
        "                                       nn.Dropout(0.85),\n",
        "                                       nn.ReLU(),\n",
        "\n",
        "                                       nn.Linear(512, 24),\n",
        "                                       nn.Softmax(dim=1))\n",
        "\n",
        "    def forward(self, x):\n",
        "\n",
        "        # Process through fully connected layer\n",
        "        x = self.fc_layers(x)\n",
        "\n",
        "        return x"
      ]
    },
    {
      "cell_type": "code",
      "execution_count": null,
      "metadata": {
        "id": "pLFFGG_giAOj"
      },
      "outputs": [],
      "source": [
        "# Evaluation function to check accuracy on a given dataset\n",
        "def evaluate(model, dataLoader):\n",
        "  total, correct = 0, 0\n",
        "\n",
        "  # Good practice to turn on evaluate mode\n",
        "  model.eval()\n",
        "\n",
        "  with torch.no_grad():\n",
        "    for data in dataLoader:\n",
        "\n",
        "      inputs, labels = data\n",
        "      inputs, labels = inputs.to(device), labels.to(device)\n",
        "      outputs = model(inputs.float())\n",
        "\n",
        "      _, pred = torch.max(outputs, 1)\n",
        "\n",
        "      total += labels.size(0)\n",
        "      correct += (pred == labels).sum().item()\n",
        "\n",
        "  return 100 * correct / total\n",
        "\n",
        "\n",
        "\n",
        "# Weight initialization function using Xavier Uniform distribution\n",
        "def weights_init(m):\n",
        "    # Use same weight init. for both linear and convolutional layers\n",
        "    if isinstance(m, nn.Linear) or isinstance(m, nn.Conv2d):\n",
        "        torch.nn.init.xavier_uniform_(m.weight)"
      ]
    },
    {
      "cell_type": "markdown",
      "metadata": {
        "id": "h232yvDRkEm-"
      },
      "source": [
        "### Define training block for **key** classification"
      ]
    },
    {
      "cell_type": "code",
      "execution_count": null,
      "metadata": {
        "id": "9xDdprBIkL2u"
      },
      "outputs": [],
      "source": [
        "# Training statistics storing block\n",
        "# This allows to run the block below multiple times without losing info about previous epochs\n",
        "# Run this block to reset them\n",
        "train_loss = []\n",
        "train_acc = []\n",
        "valid_acc = []"
      ]
    },
    {
      "cell_type": "code",
      "execution_count": null,
      "metadata": {
        "id": "BenzFinhkM6I"
      },
      "outputs": [],
      "source": [
        "# Determine device on which to run calculations\n",
        "device = torch.device(\"cuda:0\")\n",
        "\n",
        "\n",
        "# Declare CNN network with 10 classes and send it to cuda device for computing\n",
        "key_model = KeyModel().to(device)\n",
        "\n",
        "# Init. all of the model's weights using Xavier Uniform distribution.\n",
        "#key_model.apply(weights_init)\n",
        "\n",
        "# Cross-entropy loss is one of the best for classification problems\n",
        "criterion = nn.CrossEntropyLoss().to(device)\n",
        "\n",
        "\n",
        "# Adam Optimizer, learning rate 0.00001 with weight decay to reduce overfitting (weight decay basically uses L2 regularization in pytorch for the adam optimizer)\n",
        "optimizer = torch.optim.Adam(key_model.parameters(), lr=1e-4, weight_decay=1e-4)\n",
        "\n",
        "def train_key_model(num_epochs):\n",
        "  for epoch in range(num_epochs):\n",
        "\n",
        "    running_loss = 0\n",
        "\n",
        "    # Loop over batches\n",
        "    for data in key_train_dataloader:\n",
        "\n",
        "      key_model.train()\n",
        "\n",
        "      inputs, labels = data\n",
        "      inputs, labels = inputs.to(device), labels.to(device)\n",
        "\n",
        "      # Zero the gradients and pass inputs through CNN\n",
        "      optimizer.zero_grad()\n",
        "      outputs = key_model(inputs.float())\n",
        "\n",
        "      # Compute loss\n",
        "      loss = criterion(outputs, labels.long())\n",
        "\n",
        "      # Compute gradients and update paramaters using optimizer's algorithm (Adam here)\n",
        "      loss.backward()\n",
        "      optimizer.step()\n",
        "\n",
        "      # Add batch loss to this epoch's training loss\n",
        "      running_loss += loss.item()\n",
        "\n",
        "    # Append values to read later\n",
        "    train_loss.append(running_loss)\n",
        "    train_acc.append(evaluate(key_model, key_train_dataloader))\n",
        "    valid_acc.append(evaluate(key_model, key_valid_dataloader))\n",
        "\n",
        "    if valid_acc[-1] >= 60:\n",
        "      print(\"Stopping earlier !\")\n",
        "      break\n",
        "\n",
        "    if (epoch % 10) == 0:\n",
        "      print(\"Epoch {} loss: {}, train_acc: {}, valid_acc: {}\".format(epoch+1, train_loss[-1], train_acc[-1], valid_acc[-1]))\n"
      ]
    },
    {
      "cell_type": "code",
      "execution_count": null,
      "metadata": {
        "colab": {
          "base_uri": "https://localhost:8080/",
          "height": 1000
        },
        "id": "g4xqvN1wklRz",
        "outputId": "d8862a2a-7943-4f3b-ab0b-550426b2f70d"
      },
      "outputs": [
        {
          "name": "stdout",
          "output_type": "stream",
          "text": [
            "Epoch 1 loss: 78.0817277431488, train_acc: 77.27272727272727, valid_acc: 54.166666666666664\n",
            "Epoch 11 loss: 78.4777774810791, train_acc: 77.47933884297521, valid_acc: 55.0\n",
            "Epoch 21 loss: 77.72586750984192, train_acc: 77.89256198347107, valid_acc: 55.0\n",
            "Epoch 31 loss: 78.14555215835571, train_acc: 77.89256198347107, valid_acc: 54.166666666666664\n",
            "Epoch 41 loss: 77.57211589813232, train_acc: 78.30578512396694, valid_acc: 54.166666666666664\n",
            "Epoch 51 loss: 77.80807209014893, train_acc: 78.09917355371901, valid_acc: 55.0\n",
            "Epoch 61 loss: 77.88799619674683, train_acc: 78.30578512396694, valid_acc: 55.833333333333336\n",
            "Epoch 71 loss: 77.39830303192139, train_acc: 78.30578512396694, valid_acc: 55.0\n",
            "Epoch 81 loss: 77.5701687335968, train_acc: 78.51239669421487, valid_acc: 55.0\n",
            "Epoch 91 loss: 77.60824251174927, train_acc: 78.71900826446281, valid_acc: 53.333333333333336\n",
            "Epoch 101 loss: 77.5650806427002, train_acc: 78.71900826446281, valid_acc: 53.333333333333336\n",
            "Epoch 111 loss: 77.46141028404236, train_acc: 78.71900826446281, valid_acc: 53.333333333333336\n",
            "Epoch 121 loss: 77.28531956672668, train_acc: 78.71900826446281, valid_acc: 53.333333333333336\n",
            "Epoch 131 loss: 77.40588331222534, train_acc: 78.71900826446281, valid_acc: 54.166666666666664\n",
            "Epoch 141 loss: 77.21428537368774, train_acc: 78.71900826446281, valid_acc: 55.0\n",
            "Epoch 151 loss: 77.39018321037292, train_acc: 78.71900826446281, valid_acc: 55.0\n",
            "Epoch 161 loss: 77.39373540878296, train_acc: 78.71900826446281, valid_acc: 53.333333333333336\n",
            "Epoch 171 loss: 77.10424494743347, train_acc: 78.71900826446281, valid_acc: 54.166666666666664\n",
            "Epoch 181 loss: 76.72712326049805, train_acc: 78.71900826446281, valid_acc: 54.166666666666664\n",
            "Epoch 191 loss: 77.3919906616211, train_acc: 78.71900826446281, valid_acc: 54.166666666666664\n",
            "Epoch 201 loss: 77.52799201011658, train_acc: 78.71900826446281, valid_acc: 55.833333333333336\n",
            "Epoch 211 loss: 77.01224851608276, train_acc: 78.71900826446281, valid_acc: 53.333333333333336\n",
            "Epoch 221 loss: 76.88133788108826, train_acc: 78.71900826446281, valid_acc: 53.333333333333336\n",
            "Epoch 231 loss: 77.31463932991028, train_acc: 78.71900826446281, valid_acc: 53.333333333333336\n",
            "Epoch 241 loss: 77.09263491630554, train_acc: 78.71900826446281, valid_acc: 53.333333333333336\n",
            "Epoch 251 loss: 76.90017366409302, train_acc: 78.71900826446281, valid_acc: 54.166666666666664\n",
            "Epoch 261 loss: 76.9322612285614, train_acc: 78.71900826446281, valid_acc: 53.333333333333336\n",
            "Epoch 271 loss: 76.78084444999695, train_acc: 78.71900826446281, valid_acc: 54.166666666666664\n",
            "Epoch 281 loss: 76.85924696922302, train_acc: 78.71900826446281, valid_acc: 54.166666666666664\n",
            "Epoch 291 loss: 77.13285660743713, train_acc: 78.92561983471074, valid_acc: 54.166666666666664\n",
            "Epoch 301 loss: 76.79891991615295, train_acc: 79.13223140495867, valid_acc: 54.166666666666664\n",
            "Epoch 311 loss: 76.73419213294983, train_acc: 79.13223140495867, valid_acc: 55.0\n",
            "Epoch 321 loss: 76.90681982040405, train_acc: 79.13223140495867, valid_acc: 53.333333333333336\n",
            "Epoch 331 loss: 76.7886438369751, train_acc: 79.13223140495867, valid_acc: 53.333333333333336\n",
            "Epoch 341 loss: 76.79825162887573, train_acc: 79.13223140495867, valid_acc: 54.166666666666664\n",
            "Epoch 351 loss: 76.91353416442871, train_acc: 79.75206611570248, valid_acc: 54.166666666666664\n",
            "Epoch 361 loss: 76.75206470489502, train_acc: 80.78512396694215, valid_acc: 55.0\n",
            "Epoch 371 loss: 76.40314435958862, train_acc: 81.81818181818181, valid_acc: 54.166666666666664\n",
            "Epoch 381 loss: 76.85158491134644, train_acc: 82.23140495867769, valid_acc: 54.166666666666664\n",
            "Epoch 391 loss: 76.44804310798645, train_acc: 82.64462809917356, valid_acc: 55.0\n",
            "Epoch 401 loss: 76.35142183303833, train_acc: 83.05785123966942, valid_acc: 55.0\n",
            "Epoch 411 loss: 76.49687123298645, train_acc: 83.26446280991736, valid_acc: 54.166666666666664\n",
            "Epoch 421 loss: 76.2986707687378, train_acc: 83.26446280991736, valid_acc: 55.833333333333336\n",
            "Epoch 431 loss: 76.12407088279724, train_acc: 83.47107438016529, valid_acc: 53.333333333333336\n",
            "Epoch 441 loss: 76.27244710922241, train_acc: 83.47107438016529, valid_acc: 52.5\n",
            "Epoch 451 loss: 75.88491988182068, train_acc: 83.47107438016529, valid_acc: 52.5\n",
            "Epoch 461 loss: 75.6969792842865, train_acc: 83.47107438016529, valid_acc: 55.0\n",
            "Epoch 471 loss: 75.62946915626526, train_acc: 83.88429752066116, valid_acc: 52.5\n",
            "Epoch 481 loss: 75.8229296207428, train_acc: 83.88429752066116, valid_acc: 52.5\n",
            "Epoch 491 loss: 75.82039594650269, train_acc: 83.88429752066116, valid_acc: 55.0\n",
            "Epoch 501 loss: 75.76013159751892, train_acc: 83.88429752066116, valid_acc: 56.666666666666664\n",
            "Epoch 511 loss: 75.87076044082642, train_acc: 83.88429752066116, valid_acc: 55.833333333333336\n",
            "Epoch 521 loss: 75.94136881828308, train_acc: 83.88429752066116, valid_acc: 58.333333333333336\n",
            "Epoch 531 loss: 75.58620595932007, train_acc: 83.88429752066116, valid_acc: 54.166666666666664\n",
            "Epoch 541 loss: 75.41512823104858, train_acc: 83.88429752066116, valid_acc: 55.0\n",
            "Epoch 551 loss: 75.37484574317932, train_acc: 83.88429752066116, valid_acc: 55.0\n",
            "Epoch 561 loss: 75.43513751029968, train_acc: 83.88429752066116, valid_acc: 57.5\n",
            "Epoch 571 loss: 75.47253632545471, train_acc: 83.88429752066116, valid_acc: 56.666666666666664\n",
            "Epoch 581 loss: 75.72964453697205, train_acc: 83.88429752066116, valid_acc: 55.0\n",
            "Epoch 591 loss: 75.3689603805542, train_acc: 83.88429752066116, valid_acc: 58.333333333333336\n",
            "Epoch 601 loss: 75.29830813407898, train_acc: 83.88429752066116, valid_acc: 55.833333333333336\n",
            "Epoch 611 loss: 75.42753052711487, train_acc: 84.0909090909091, valid_acc: 54.166666666666664\n",
            "Epoch 621 loss: 75.20184922218323, train_acc: 84.0909090909091, valid_acc: 55.833333333333336\n",
            "Epoch 631 loss: 75.3135244846344, train_acc: 84.0909090909091, valid_acc: 54.166666666666664\n",
            "Epoch 641 loss: 75.44275045394897, train_acc: 84.0909090909091, valid_acc: 56.666666666666664\n",
            "Epoch 651 loss: 75.25434517860413, train_acc: 84.0909090909091, valid_acc: 56.666666666666664\n",
            "Epoch 661 loss: 75.25497841835022, train_acc: 84.0909090909091, valid_acc: 54.166666666666664\n",
            "Epoch 671 loss: 75.02398109436035, train_acc: 84.0909090909091, valid_acc: 56.666666666666664\n",
            "Epoch 681 loss: 75.45802688598633, train_acc: 84.0909090909091, valid_acc: 54.166666666666664\n",
            "Epoch 691 loss: 75.06604099273682, train_acc: 84.0909090909091, valid_acc: 56.666666666666664\n",
            "Epoch 701 loss: 75.24134707450867, train_acc: 84.0909090909091, valid_acc: 56.666666666666664\n",
            "Stopping earlier !\n",
            "loss: 75.12516713142395, train_acc: 84.0909090909091, valid_acc: 60.0\n"
          ]
        },
        {
          "data": {
            "image/png": "[encoded data removed]",
            "text/plain": [
              "<Figure size 640x480 with 1 Axes>"
            ]
          },
          "metadata": {},
          "output_type": "display_data"
        },
        {
          "data": {
            "image/png": "[encoded data removed]",
            "text/plain": [
              "<Figure size 640x480 with 1 Axes>"
            ]
          },
          "metadata": {},
          "output_type": "display_data"
        }
      ],
      "source": [
        "# TRAINING BLOCK - Run multiple times to continue training.\n",
        "num_epochs = 1000\n",
        "\n",
        "\n",
        "# Start training loop\n",
        "train_key_model(num_epochs)\n",
        "\n",
        "print(\"loss: {}, train_acc: {}, valid_acc: {}\".format(train_loss[-1], train_acc[-1], valid_acc[-1]))\n",
        "\n",
        "# Plot graph of train and test accuracies over epochs\n",
        "plt.xlabel(\"Epoch\")\n",
        "plt.ylabel(\"Accuracy\")\n",
        "plt.plot(train_acc, \"r\")\n",
        "plt.plot(valid_acc, \"b\")\n",
        "plt.gca().legend(('train','valid'))\n",
        "plt.show()\n",
        "\n",
        "# Plot graph of training loss over epochs\n",
        "plt.xlabel(\"Epoch\")\n",
        "plt.ylabel(\"Loss\")\n",
        "plt.plot(train_loss)\n",
        "plt.show()"
      ]
    },
    {
      "cell_type": "code",
      "execution_count": null,
      "metadata": {
        "colab": {
          "base_uri": "https://localhost:8080/"
        },
        "id": "SMgX4bVPQVV9",
        "outputId": "f50da5f0-ab25-4dc3-9968-7d2dcb10e472"
      },
      "outputs": [
        {
          "name": "stdout",
          "output_type": "stream",
          "text": [
            "loss: 75.12516713142395, train_acc: 84.0909090909091, valid_acc: 60.0\n"
          ]
        }
      ],
      "source": [
        "print(\"loss: {}, train_acc: {}, valid_acc: {}\".format(train_loss[-1], train_acc[-1], valid_acc[-1]))"
      ]
    },
    {
      "cell_type": "markdown",
      "metadata": {
        "id": "ICyYuHy6CPVR"
      },
      "source": [
        "## **Mood Model training**"
      ]
    },
    {
      "cell_type": "markdown",
      "metadata": {
        "id": "uOf_fHcrCPVX"
      },
      "source": [
        "### Define model & Evaluation function"
      ]
    },
    {
      "cell_type": "code",
      "execution_count": null,
      "metadata": {
        "id": "QudYfLqVCPVX"
      },
      "outputs": [],
      "source": [
        "class MoodModel(nn.Module):\n",
        "    def __init__(self):\n",
        "\n",
        "        super().__init__()\n",
        "\n",
        "        # Fully connected layers\n",
        "        self.fc_layers = nn.Sequential(nn.Linear(4800, 512),\n",
        "                                       nn.Dropout(0.75),\n",
        "                                       nn.ReLU(),\n",
        "\n",
        "                                       nn.Linear(512, 2))\n",
        "\n",
        "    def forward(self, x):\n",
        "\n",
        "        # Process through fully connected layer\n",
        "        x = self.fc_layers(x)\n",
        "\n",
        "        return x"
      ]
    },
    {
      "cell_type": "code",
      "execution_count": null,
      "metadata": {
        "id": "jtqGiFcwCPVX"
      },
      "outputs": [],
      "source": [
        "from sklearn.metrics import r2_score\n",
        "\n",
        "# Evaluation function to check r2 score accuracy from regression model\n",
        "def evaluate(model, dataLoader):\n",
        "  r2 = []\n",
        "\n",
        "  # Good practice to turn on evaluate mode\n",
        "  model.eval()\n",
        "\n",
        "  with torch.no_grad():\n",
        "    for data in dataLoader:\n",
        "\n",
        "      inputs, labels = data\n",
        "      inputs = inputs.to(device)\n",
        "      outputs = model(inputs.float())\n",
        "\n",
        "      r2.append(r2_score(labels, outputs.cpu(), multioutput='variance_weighted'))\n",
        "\n",
        "  return np.mean(r2) * 100"
      ]
    },
    {
      "cell_type": "markdown",
      "metadata": {
        "id": "Zhw88NnxCPVX"
      },
      "source": [
        "### Define training block for **mood** regression"
      ]
    },
    {
      "cell_type": "code",
      "execution_count": null,
      "metadata": {
        "id": "xXdv5RiVCPVX"
      },
      "outputs": [],
      "source": [
        "# Training statistics storing block\n",
        "# This allows to run the block below multiple times without losing info about previous epochs\n",
        "# Run this block to reset them\n",
        "mood_train_loss = []\n",
        "mood_train_acc = []\n",
        "mood_valid_acc = []"
      ]
    },
    {
      "cell_type": "code",
      "execution_count": null,
      "metadata": {
        "id": "rzrV1l2kCPVX"
      },
      "outputs": [],
      "source": [
        "# Determine device on which to run calculations\n",
        "device = torch.device(\"cuda:0\")\n",
        "\n",
        "\n",
        "# Declare CNN network with 10 classes and send it to cuda device for computing\n",
        "mood_model = MoodModel().to(device)\n",
        "\n",
        "# Init. all of the model's weights using Xavier Uniform distribution.\n",
        "mood_model.apply(weights_init)\n",
        "\n",
        "# Use Mean Squared Error for regression problem\n",
        "criterion = nn.MSELoss().to(device)\n",
        "\n",
        "\n",
        "# Adam Optimizer, learning rate 0.0001 with weight decay to reduce overfitting (weight decay basically uses L2 regularization in pytorch for the adam optimizer)\n",
        "optimizer = torch.optim.Adam(mood_model.parameters(), lr=1e-5, weight_decay=5e-3)\n",
        "\n",
        "def train_mood_model(num_epochs):\n",
        "  for epoch in range(num_epochs):\n",
        "\n",
        "    running_loss = 0\n",
        "\n",
        "    # Loop over batches\n",
        "    for data in emo_train_dataloader:\n",
        "\n",
        "      mood_model.train()\n",
        "\n",
        "      inputs, labels = data\n",
        "      inputs, labels = inputs.to(device), labels.to(device)\n",
        "\n",
        "      # Zero the gradients and pass inputs through CNN\n",
        "      optimizer.zero_grad()\n",
        "      outputs = mood_model(inputs.float())\n",
        "\n",
        "      # Compute loss\n",
        "      loss = criterion(outputs, labels.float())\n",
        "\n",
        "      # Compute gradients and update paramaters using optimizer's algorithm (Adam here)\n",
        "      loss.backward()\n",
        "      optimizer.step()\n",
        "\n",
        "      # Add batch loss to this epoch's training loss\n",
        "      running_loss += loss.item()\n",
        "\n",
        "    # Append values to read later\n",
        "    mood_train_loss.append(running_loss)\n",
        "    mood_train_acc.append(evaluate(mood_model, emo_train_dataloader))\n",
        "    mood_valid_acc.append(evaluate(mood_model, emo_valid_dataloader))\n",
        "\n",
        "    if mood_valid_acc[-1] >= 60:\n",
        "      print(\"Early stopping !!\")\n",
        "      break\n",
        "\n",
        "    if (epoch % 10) == 0:\n",
        "      print(\"Epoch {} loss: {}, train_acc: {}, valid_acc: {}\".format(epoch+1, mood_train_loss[-1], mood_train_acc[-1], mood_valid_acc[-1]))\n"
      ]
    },
    {
      "cell_type": "code",
      "execution_count": null,
      "metadata": {
        "colab": {
          "base_uri": "https://localhost:8080/",
          "height": 1000
        },
        "id": "tjZ1Qe80CPVX",
        "outputId": "7805fbd9-2bf4-4a8e-ec7f-61b753a19498"
      },
      "outputs": [
        {
          "name": "stdout",
          "output_type": "stream",
          "text": [
            "Epoch 1 loss: 25.40850070118904, train_acc: 76.0866109362462, valid_acc: 57.34447891080636\n",
            "Epoch 11 loss: 25.23020476102829, train_acc: 77.06876893535943, valid_acc: 57.82064673631802\n",
            "Epoch 21 loss: 25.32328552007675, train_acc: 74.18535903816196, valid_acc: 56.189859097591466\n",
            "Epoch 31 loss: 25.11574500799179, train_acc: 73.36443577977465, valid_acc: 56.73234256175561\n",
            "Epoch 41 loss: 25.086641311645508, train_acc: 76.17008820906692, valid_acc: 57.23395051113821\n",
            "Epoch 51 loss: 26.112202525138855, train_acc: 76.43510416953467, valid_acc: 58.45745403109598\n",
            "Early stopping !!\n"
          ]
        },
        {
          "data": {
            "image/png": "[encoded data removed]",
            "text/plain": [
              "<Figure size 640x480 with 1 Axes>"
            ]
          },
          "metadata": {},
          "output_type": "display_data"
        },
        {
          "data": {
            "image/png": "[encoded data removed]",
            "text/plain": [
              "<Figure size 640x480 with 1 Axes>"
            ]
          },
          "metadata": {},
          "output_type": "display_data"
        }
      ],
      "source": [
        "# TRAINING BLOCK - Run multiple times to continue training.\n",
        "num_epochs = 500\n",
        "\n",
        "\n",
        "# Start training loop\n",
        "train_mood_model(num_epochs)\n",
        "\n",
        "# Plot graph of train and test accuracies over epochs\n",
        "plt.xlabel(\"Epoch\")\n",
        "plt.ylabel(\"Accuracy\")\n",
        "plt.plot(mood_train_acc, \"r\")\n",
        "plt.plot(mood_valid_acc, \"b\")\n",
        "plt.gca().legend(('train','valid'))\n",
        "plt.show()\n",
        "\n",
        "# Plot graph of training loss over epochs\n",
        "plt.xlabel(\"Epoch\")\n",
        "plt.ylabel(\"Loss\")\n",
        "plt.plot(mood_train_loss)\n",
        "plt.show()"
      ]
    },
    {
      "cell_type": "code",
      "execution_count": null,
      "metadata": {
        "id": "5LmKwtFOlZrj"
      },
      "outputs": [],
      "source": [
        "print(\"loss: {}, train_acc: {}, valid_acc: {}\".format(train_loss[-1], train_acc[-1], valid_acc[-1]))"
      ]
    },
    {
      "cell_type": "markdown",
      "metadata": {
        "id": "3-br9mYrrc1f"
      },
      "source": [
        "# **RECOMMENDERS**"
      ]
    },
    {
      "cell_type": "markdown",
      "metadata": {
        "id": "4_25ZtEwwBBk"
      },
      "source": [
        "## **Data Preparation**"
      ]
    },
    {
      "cell_type": "markdown",
      "metadata": {
        "id": "Ib1XwVMlrskP"
      },
      "source": [
        "### Load MTG-Jamendo data & build dictionary of tracks"
      ]
    },
    {
      "cell_type": "code",
      "execution_count": null,
      "metadata": {
        "id": "rh8tT661r-nG"
      },
      "outputs": [],
      "source": [
        "# Load jamendo data (4800 representations for 24492 songs) & their corresponding id to retrieve information\n",
        "jamendo_data = np.load('/content/drive/MyDrive/Models/Datasets/MTG-Jamendo/jamendo_data.npy')\n",
        "jamendo_ids = np.load('/content/drive/MyDrive/Models/Datasets/MTG-Jamendo/jamendo_ids.npy')"
      ]
    },
    {
      "cell_type": "code",
      "execution_count": null,
      "metadata": {
        "id": "_HUR6TgFhGAL"
      },
      "outputs": [],
      "source": [
        "# Unzip audio files for comparison evaluation\n",
        "!unzip /content/drive/MyDrive/Models/Datasets/MTG-Jamendo/Audio1.zip -d /content/JamendoAudio\n",
        "!unzip /content/drive/MyDrive/Models/Datasets/MTG-Jamendo/Audio2.zip -d /content/JamendoAudio\n",
        "!unzip /content/drive/MyDrive/Models/Datasets/MTG-Jamendo/Audio3.zip -d /content/JamendoAudio\n",
        "!unzip /content/drive/MyDrive/Models/Datasets/MTG-Jamendo/Audio4.zip -d /content/JamendoAudio"
      ]
    },
    {
      "cell_type": "code",
      "execution_count": null,
      "metadata": {
        "colab": {
          "base_uri": "https://localhost:8080/"
        },
        "id": "_n_kE7_ou2Gh",
        "outputId": "5c904658-8d9c-4605-e71a-4afe780e68cf"
      },
      "outputs": [
        {
          "name": "stdout",
          "output_type": "stream",
          "text": [
            "{'title': 'Equinox', 'genre': ['chillout', 'electronic'], 'duration': 594.5, 'year': 2007, 'key': 1, 'valence': 4.7360888, 'arousal': 5.777613, 'representations': array([ 0.49287578,  0.16051039,  1.00152123, ..., -0.44382071,\n",
            "        0.91370833,  0.57413268])}\n",
            "(4800,)\n",
            "24492\n"
          ]
        }
      ],
      "source": [
        "tracks = {}\n",
        "\n",
        "with open('/content/drive/MyDrive/Models/Datasets/MTG-Jamendo/CompleteTracks.json', encoding='utf-8') as file:\n",
        "  tracks = json.load(file)\n",
        "\n",
        "\n",
        "# All other features have already been organized in a dictionnary and saved inside a json to make loading easier.\n",
        "# However, Jukebox representations are too large to be stored inside this json so we must retrieve them from its original numpy array\n",
        "temp = {}\n",
        "\n",
        "for track in tracks:\n",
        "  # Skip tracks for which representations have not been processed\n",
        "  if int(track) not in jamendo_ids:\n",
        "    continue\n",
        "\n",
        "  # Locate track index using id to get representations from data array\n",
        "  index = np.where(jamendo_ids == int(track))[0][0]\n",
        "\n",
        "  temp[track] = {'title': tracks[track]['title'],\n",
        "                 'genre' : tracks[track]['genre'],\n",
        "                 'duration' : float(tracks[track]['duration']),\n",
        "                 'year' : int(tracks[track]['year']),\n",
        "                 'key': tracks[track]['key'],\n",
        "                 'valence': float(tracks[track]['valence']),\n",
        "                 'arousal': float(tracks[track]['arousal']),\n",
        "                 'representations' : jamendo_data[index] }\n",
        "\n",
        "# Replace old dictionary to delete unused track entries and add representations\n",
        "tracks = temp\n",
        "\n",
        "print(tracks['0077441'])\n",
        "print(tracks['0077441']['representations'].shape)\n",
        "print(len(tracks))"
      ]
    },
    {
      "cell_type": "code",
      "execution_count": null,
      "metadata": {
        "id": "4vluTRD5P31r"
      },
      "outputs": [],
      "source": [
        "# Convert dictionary to data frame to make processing a bit easier\n",
        "tracks_dataset = pd.DataFrame.from_dict(tracks)\n",
        "\n",
        "#print(list(dataset.loc['representations'][:10]))"
      ]
    },
    {
      "cell_type": "markdown",
      "metadata": {
        "id": "f0RYXmqM6bvV"
      },
      "source": [
        "## **Clustering experiments for 'k'**"
      ]
    },
    {
      "cell_type": "code",
      "execution_count": null,
      "metadata": {
        "id": "0XH_3ZnyfsXL"
      },
      "outputs": [],
      "source": [
        "from sklearn.metrics import silhouette_score\n",
        "from sklearn.model_selection import GridSearchCV\n",
        "\n",
        "# Standardize data\n",
        "def standardize(x):\n",
        "  x = (x - x.mean()) / x.std()\n",
        "  return x\n",
        "\n",
        "\n",
        "#X = list(dataset.loc['representations'])\n",
        "#X = standardize(np.array(X))\n",
        "\n",
        "k_max = 14"
      ]
    },
    {
      "cell_type": "markdown",
      "metadata": {
        "id": "UZmfGv4xNTwA"
      },
      "source": [
        "#### Elbow Method for KMeans"
      ]
    },
    {
      "cell_type": "code",
      "execution_count": null,
      "metadata": {
        "colab": {
          "base_uri": "https://localhost:8080/",
          "height": 449
        },
        "id": "gQMBttqs6aB-",
        "outputId": "7892a886-eeec-46ff-a4fc-f1f5515b73f7"
      },
      "outputs": [
        {
          "data": {
            "image/png": "[encoded data removed]",
            "text/plain": [
              "<Figure size 640x480 with 1 Axes>"
            ]
          },
          "metadata": {},
          "output_type": "display_data"
        }
      ],
      "source": [
        "#################\n",
        "# USING K-MEANS #\n",
        "#################\n",
        "\n",
        "sse = []\n",
        "\n",
        "for k in range(1, 11):\n",
        "  kmeans = KMeans(n_clusters = k, n_init='auto').fit(scaled)\n",
        "  centroids = kmeans.cluster_centers_\n",
        "  pred = kmeans.predict(scaled)\n",
        "  current_sse = 0\n",
        "\n",
        "  for i in range(len(scaled)):\n",
        "    current_center = centroids[pred[i]]\n",
        "\n",
        "    for j in range(len(scaled[i])):\n",
        "      current_sse += (scaled[i][j] - current_center[j]) ** 2\n",
        "\n",
        "  sse.append(current_sse)\n",
        "\n",
        "plt.xlabel(\"k\")\n",
        "plt.ylabel(\"WCSS\")\n",
        "plt.plot(range(1, 11), sse)\n",
        "plt.xticks(range(1, 11))\n",
        "plt.show()"
      ]
    },
    {
      "cell_type": "markdown",
      "metadata": {
        "id": "ijouAQxBoW1a"
      },
      "source": [
        "#### BIC Method for GMM"
      ]
    },
    {
      "cell_type": "code",
      "execution_count": null,
      "metadata": {
        "colab": {
          "base_uri": "https://localhost:8080/",
          "height": 224
        },
        "id": "tLB2VTDfhwvF",
        "outputId": "79a67437-006a-490c-ead7-791ca25b3f8e"
      },
      "outputs": [
        {
          "name": "stdout",
          "output_type": "stream",
          "text": [
            "Fitting 5 folds for each of 11 candidates, totalling 55 fits\n"
          ]
        },
        {
          "data": {
            "text/html": [
              "\n",
              "\n",
              "  <div id=\"df-24d2867b-34d8-49f5-81b9-4cccb7e0f560\">\n",
              "    <div class=\"colab-df-container\">\n",
              "      <div>\n",
              "<style scoped>\n",
              "    .dataframe tbody tr th:only-of-type {\n",
              "        vertical-align: middle;\n",
              "    }\n",
              "\n",
              "    .dataframe tbody tr th {\n",
              "        vertical-align: top;\n",
              "    }\n",
              "\n",
              "    .dataframe thead th {\n",
              "        text-align: right;\n",
              "    }\n",
              "</style>\n",
              "<table border=\"1\" class=\"dataframe\">\n",
              "  <thead>\n",
              "    <tr style=\"text-align: right;\">\n",
              "      <th></th>\n",
              "      <th>Number of components</th>\n",
              "      <th>Type of covariance</th>\n",
              "      <th>BIC score</th>\n",
              "    </tr>\n",
              "  </thead>\n",
              "  <tbody>\n",
              "    <tr>\n",
              "      <th>7</th>\n",
              "      <td>17</td>\n",
              "      <td>full</td>\n",
              "      <td>26630.038822</td>\n",
              "    </tr>\n",
              "    <tr>\n",
              "      <th>6</th>\n",
              "      <td>16</td>\n",
              "      <td>full</td>\n",
              "      <td>27437.812585</td>\n",
              "    </tr>\n",
              "    <tr>\n",
              "      <th>5</th>\n",
              "      <td>15</td>\n",
              "      <td>full</td>\n",
              "      <td>27616.241892</td>\n",
              "    </tr>\n",
              "    <tr>\n",
              "      <th>1</th>\n",
              "      <td>11</td>\n",
              "      <td>full</td>\n",
              "      <td>28013.825577</td>\n",
              "    </tr>\n",
              "    <tr>\n",
              "      <th>3</th>\n",
              "      <td>13</td>\n",
              "      <td>full</td>\n",
              "      <td>28236.764610</td>\n",
              "    </tr>\n",
              "  </tbody>\n",
              "</table>\n",
              "</div>\n",
              "      <button class=\"colab-df-convert\" onclick=\"convertToInteractive('df-24d2867b-34d8-49f5-81b9-4cccb7e0f560')\"\n",
              "              title=\"Convert this dataframe to an interactive table.\"\n",
              "              style=\"display:none;\">\n",
              "\n",
              "  <svg xmlns=\"http://www.w3.org/2000/svg\" height=\"24px\"viewBox=\"0 0 24 24\"\n",
              "       width=\"24px\">\n",
              "    <path d=\"M0 0h24v24H0V0z\" fill=\"none\"/>\n",
              "    <path d=\"M18.56 5.44l.94 2.06.94-2.06 2.06-.94-2.06-.94-.94-2.06-.94 2.06-2.06.94zm-11 1L8.5 8.5l.94-2.06 2.06-.94-2.06-.94L8.5 2.5l-.94 2.06-2.06.94zm10 10l.94 2.06.94-2.06 2.06-.94-2.06-.94-.94-2.06-.94 2.06-2.06.94z\"/><path d=\"M17.41 7.96l-1.37-1.37c-.4-.4-.92-.59-1.43-.59-.52 0-1.04.2-1.43.59L10.3 9.45l-7.72 7.72c-.78.78-.78 2.05 0 2.83L4 21.41c.39.39.9.59 1.41.59.51 0 1.02-.2 1.41-.59l7.78-7.78 2.81-2.81c.8-.78.8-2.07 0-2.86zM5.41 20L4 18.59l7.72-7.72 1.47 1.35L5.41 20z\"/>\n",
              "  </svg>\n",
              "      </button>\n",
              "\n",
              "\n",
              "\n",
              "    <div id=\"df-70af77e8-49c9-4eb1-8699-8791740bbad8\">\n",
              "      <button class=\"colab-df-quickchart\" onclick=\"quickchart('df-70af77e8-49c9-4eb1-8699-8791740bbad8')\"\n",
              "              title=\"Suggest charts.\"\n",
              "              style=\"display:none;\">\n",
              "\n",
              "<svg xmlns=\"http://www.w3.org/2000/svg\" height=\"24px\"viewBox=\"0 0 24 24\"\n",
              "     width=\"24px\">\n",
              "    <g>\n",
              "        <path d=\"M19 3H5c-1.1 0-2 .9-2 2v14c0 1.1.9 2 2 2h14c1.1 0 2-.9 2-2V5c0-1.1-.9-2-2-2zM9 17H7v-7h2v7zm4 0h-2V7h2v10zm4 0h-2v-4h2v4z\"/>\n",
              "    </g>\n",
              "</svg>\n",
              "      </button>\n",
              "    </div>\n",
              "\n",
              "<style>\n",
              "  .colab-df-quickchart {\n",
              "    background-color: #E8F0FE;\n",
              "    border: none;\n",
              "    border-radius: 50%;\n",
              "    cursor: pointer;\n",
              "    display: none;\n",
              "    fill: #1967D2;\n",
              "    height: 32px;\n",
              "    padding: 0 0 0 0;\n",
              "    width: 32px;\n",
              "  }\n",
              "\n",
              "  .colab-df-quickchart:hover {\n",
              "    background-color: #E2EBFA;\n",
              "    box-shadow: 0px 1px 2px rgba(60, 64, 67, 0.3), 0px 1px 3px 1px rgba(60, 64, 67, 0.15);\n",
              "    fill: #174EA6;\n",
              "  }\n",
              "\n",
              "  [theme=dark] .colab-df-quickchart {\n",
              "    background-color: #3B4455;\n",
              "    fill: #D2E3FC;\n",
              "  }\n",
              "\n",
              "  [theme=dark] .colab-df-quickchart:hover {\n",
              "    background-color: #434B5C;\n",
              "    box-shadow: 0px 1px 3px 1px rgba(0, 0, 0, 0.15);\n",
              "    filter: drop-shadow(0px 1px 2px rgba(0, 0, 0, 0.3));\n",
              "    fill: #FFFFFF;\n",
              "  }\n",
              "</style>\n",
              "\n",
              "    <script>\n",
              "      async function quickchart(key) {\n",
              "        const containerElement = document.querySelector('#' + key);\n",
              "        const charts = await google.colab.kernel.invokeFunction(\n",
              "            'suggestCharts', [key], {});\n",
              "      }\n",
              "    </script>\n",
              "\n",
              "      <script>\n",
              "\n",
              "function displayQuickchartButton(domScope) {\n",
              "  let quickchartButtonEl =\n",
              "    domScope.querySelector('#df-70af77e8-49c9-4eb1-8699-8791740bbad8 button.colab-df-quickchart');\n",
              "  quickchartButtonEl.style.display =\n",
              "    google.colab.kernel.accessAllowed ? 'block' : 'none';\n",
              "}\n",
              "\n",
              "        displayQuickchartButton(document);\n",
              "      </script>\n",
              "      <style>\n",
              "    .colab-df-container {\n",
              "      display:flex;\n",
              "      flex-wrap:wrap;\n",
              "      gap: 12px;\n",
              "    }\n",
              "\n",
              "    .colab-df-convert {\n",
              "      background-color: #E8F0FE;\n",
              "      border: none;\n",
              "      border-radius: 50%;\n",
              "      cursor: pointer;\n",
              "      display: none;\n",
              "      fill: #1967D2;\n",
              "      height: 32px;\n",
              "      padding: 0 0 0 0;\n",
              "      width: 32px;\n",
              "    }\n",
              "\n",
              "    .colab-df-convert:hover {\n",
              "      background-color: #E2EBFA;\n",
              "      box-shadow: 0px 1px 2px rgba(60, 64, 67, 0.3), 0px 1px 3px 1px rgba(60, 64, 67, 0.15);\n",
              "      fill: #174EA6;\n",
              "    }\n",
              "\n",
              "    [theme=dark] .colab-df-convert {\n",
              "      background-color: #3B4455;\n",
              "      fill: #D2E3FC;\n",
              "    }\n",
              "\n",
              "    [theme=dark] .colab-df-convert:hover {\n",
              "      background-color: #434B5C;\n",
              "      box-shadow: 0px 1px 3px 1px rgba(0, 0, 0, 0.15);\n",
              "      filter: drop-shadow(0px 1px 2px rgba(0, 0, 0, 0.3));\n",
              "      fill: #FFFFFF;\n",
              "    }\n",
              "  </style>\n",
              "\n",
              "      <script>\n",
              "        const buttonEl =\n",
              "          document.querySelector('#df-24d2867b-34d8-49f5-81b9-4cccb7e0f560 button.colab-df-convert');\n",
              "        buttonEl.style.display =\n",
              "          google.colab.kernel.accessAllowed ? 'block' : 'none';\n",
              "\n",
              "        async function convertToInteractive(key) {\n",
              "          const element = document.querySelector('#df-24d2867b-34d8-49f5-81b9-4cccb7e0f560');\n",
              "          const dataTable =\n",
              "            await google.colab.kernel.invokeFunction('convertToInteractive',\n",
              "                                                     [key], {});\n",
              "          if (!dataTable) return;\n",
              "\n",
              "          const docLinkHtml = 'Like what you see? Visit the ' +\n",
              "            '<a target=\"_blank\" href=https://colab.research.google.com/notebooks/data_table.ipynb>data table notebook</a>'\n",
              "            + ' to learn more about interactive tables.';\n",
              "          element.innerHTML = '';\n",
              "          dataTable['output_type'] = 'display_data';\n",
              "          await google.colab.output.renderOutput(dataTable, element);\n",
              "          const docLink = document.createElement('div');\n",
              "          docLink.innerHTML = docLinkHtml;\n",
              "          element.appendChild(docLink);\n",
              "        }\n",
              "      </script>\n",
              "    </div>\n",
              "  </div>\n"
            ],
            "text/plain": [
              "  Number of components Type of covariance     BIC score\n",
              "7                   17               full  26630.038822\n",
              "6                   16               full  27437.812585\n",
              "5                   15               full  27616.241892\n",
              "1                   11               full  28013.825577\n",
              "3                   13               full  28236.764610"
            ]
          },
          "execution_count": 45,
          "metadata": {},
          "output_type": "execute_result"
        }
      ],
      "source": [
        "#############\n",
        "# USING GMM #\n",
        "#############\n",
        "\n",
        "# Most of the code here is from the official sklearn documentation which includes a section about calculating BIC to optimize the GMM's parameters.\n",
        "# Only the \"full\" covariance type is shown here but previous experiment was carried out with all covariance types to determine the best\n",
        "\n",
        "def gmm_bic_score(estimator, X):\n",
        "  # Make it negative since GridSearchCV expects a score to maximize\n",
        "  return -estimator.bic(X)\n",
        "\n",
        "param_grid = {\n",
        "    \"n_components\": range(10, 21),\n",
        "    \"covariance_type\": [\"full\"],\n",
        "}\n",
        "\n",
        "scaler = StandardScaler()\n",
        "scaled = scaler.fit_transform(X)\n",
        "\n",
        "grid_search = GridSearchCV(GaussianMixture(), param_grid=param_grid, scoring=gmm_bic_score, verbose=1)\n",
        "grid_search.fit(scaled)\n",
        "\n",
        "\n",
        "\n",
        "df = pd.DataFrame(grid_search.cv_results_)[[\"param_n_components\", \"param_covariance_type\", \"mean_test_score\"]]\n",
        "df[\"mean_test_score\"] = -df[\"mean_test_score\"]\n",
        "df = df.rename(\n",
        "    columns={\n",
        "        \"param_n_components\": \"Number of components\",\n",
        "        \"param_covariance_type\": \"Type of covariance\",\n",
        "        \"mean_test_score\": \"BIC score\",\n",
        "        }\n",
        "    )\n",
        "\n",
        "df.sort_values(by=\"BIC score\").head()"
      ]
    },
    {
      "cell_type": "code",
      "execution_count": null,
      "metadata": {
        "colab": {
          "base_uri": "https://localhost:8080/",
          "height": 506
        },
        "id": "AtC1HIEPjAcP",
        "outputId": "84ab78b7-cfb0-43de-c7a2-5cbd7958ac21"
      },
      "outputs": [
        {
          "data": {
            "image/png": "[encoded data removed]",
            "text/plain": [
              "<Figure size 641.486x500 with 1 Axes>"
            ]
          },
          "metadata": {},
          "output_type": "display_data"
        }
      ],
      "source": [
        "import seaborn as sns\n",
        "\n",
        "df = pd.DataFrame(grid_search.cv_results_)[[\"param_n_components\", \"param_covariance_type\", \"mean_test_score\"]]\n",
        "df[\"mean_test_score\"] = -df[\"mean_test_score\"]\n",
        "df = df.rename(\n",
        "    columns={\n",
        "        \"param_n_components\": \"Number of components\",\n",
        "        \"param_covariance_type\": \"Type of covariance\",\n",
        "        \"mean_test_score\": \"BIC score\",\n",
        "        }\n",
        "    )\n",
        "\n",
        "df.sort_values(by=\"BIC score\").head()\n",
        "\n",
        "sns.catplot(\n",
        "    data=df,\n",
        "    kind=\"bar\",\n",
        "    x=\"Number of components\",\n",
        "    y=\"BIC score\",\n",
        "    hue=\"Type of covariance\",\n",
        ")\n",
        "plt.show()"
      ]
    },
    {
      "cell_type": "code",
      "execution_count": null,
      "metadata": {
        "id": "IgW_JEJwYU7T"
      },
      "outputs": [],
      "source": [
        "plt.xlabel(\"k\")\n",
        "plt.ylabel(\"BIC Score\")\n",
        "plt.plot(range(10, 21), [-1.038160e+8, -1.053443e+8, -1.061264e+8, -1.065867e+8, -1.070856e+8, -1.073299e+8, -1.075297e+8, -1.076979e+8, -1.077725e+8, -1.078453e+8, -1.078818e+8, -1.07967e+8, -1.080025e+8, -1.080061e+8])\n",
        "plt.xticks(range(1, 15))\n",
        "plt.show()"
      ]
    },
    {
      "cell_type": "markdown",
      "metadata": {
        "id": "RZoZDSNdNWqR"
      },
      "source": [
        "#### Silhouette Method for KMeans"
      ]
    },
    {
      "cell_type": "code",
      "execution_count": null,
      "metadata": {
        "colab": {
          "base_uri": "https://localhost:8080/",
          "height": 449
        },
        "id": "8jJ4yEzwMCqF",
        "outputId": "2ca2510e-5ced-4522-ed9f-ac5973caaedd"
      },
      "outputs": [
        {
          "data": {
            "image/png": "[encoded data removed]",
            "text/plain": [
              "<Figure size 640x480 with 1 Axes>"
            ]
          },
          "metadata": {},
          "output_type": "display_data"
        }
      ],
      "source": [
        "score = []\n",
        "\n",
        "for k in range(2, 11):\n",
        "  kmeans = KMeans(n_clusters = k, n_init='auto').fit(scaled)\n",
        "  pred = kmeans.predict(scaled)\n",
        "  score.append(silhouette_score(scaled, pred, metric='euclidean'))\n",
        "\n",
        "plt.xlabel(\"k\")\n",
        "plt.ylabel(\"Silhouette Score\")\n",
        "plt.plot(range(2, 11), score)\n",
        "plt.xticks(range(2, 11))\n",
        "plt.show()"
      ]
    },
    {
      "cell_type": "markdown",
      "metadata": {
        "id": "TPidEdXgDMpV"
      },
      "source": [
        "## **Recommender tests**"
      ]
    },
    {
      "cell_type": "code",
      "execution_count": null,
      "metadata": {
        "id": "fLBf89eXt6Wr"
      },
      "outputs": [],
      "source": [
        "# Create training set by removing 2000 test songs\n",
        "split = np.load('/content/drive/MyDrive/Models/Datasets/MTG-Jamendo/Split2000.npy')\n",
        "\n",
        "train_tracks = {}\n",
        "\n",
        "# Remove tracks used in the test split\n",
        "for track in tracks:\n",
        "  if int(track) not in split:\n",
        "    train_tracks[track] = tracks[track]\n",
        "\n",
        "# Different dictionaries used to process the recommendations\n",
        "dataset = pd.DataFrame.from_dict(train_tracks)\n",
        "tracks_dataset = pd.DataFrame.from_dict(tracks)\n",
        "loc_dataset = tracks_dataset.loc['title'] # Only used to locate the index of a particular song in the dataset instead of its id\n",
        "feature_dataset = np.zeros((22492, 6))\n",
        "\n",
        "# ----------------------------------------------------------\n",
        "# Convert genre tags to binary and then to decimal (this can take a while considering there are 95 genre tags)\n",
        "\n",
        "# A better way could very probably be found but 2 genre datasets are needed, one for the feature\n",
        "complete_genre = tracks_dataset.loc['genre']\n",
        "mlb = MultiLabelBinarizer()\n",
        "\n",
        "labels = mlb.fit_transform(complete_genre)\n",
        "\n",
        "complete_genres = []\n",
        "for b in labels:\n",
        "  complete_genres.append(sum(val*(2**idx) for idx, val in enumerate(reversed(b))))\n",
        "\n",
        "genre_dataset = np.array(complete_genres)\n",
        "\n",
        "# For a different dataset\n",
        "genre = dataset.loc['genre']\n",
        "\n",
        "mlb = MultiLabelBinarizer()\n",
        "labels = mlb.fit_transform(genre)\n",
        "\n",
        "# Convert binaries to decimals (the long part)\n",
        "genres = []\n",
        "for b in labels:\n",
        "  genres.append(sum(val*(2**idx) for idx, val in enumerate(reversed(b))))\n",
        "# ----------------------------------------------------------\n",
        "\n",
        "dura = np.array(list(dataset.loc['duration']))\n",
        "year = np.array(list(dataset.loc['year']))\n",
        "key = np.array(list(dataset.loc['key']))\n",
        "val = np.array(list(dataset.loc['valence']))\n",
        "arou = np.array(list(dataset.loc['arousal']))\n",
        "genres = np.array(genres)\n",
        "\n",
        "for i in range(len(dura)):\n",
        "  feature_dataset[i] = np.array([dura[i], year[i], key[i], val[i], arou[i], genres[i]])"
      ]
    },
    {
      "cell_type": "markdown",
      "metadata": {
        "id": "y4INMHVut2E8"
      },
      "source": [
        "### Multilabel Binarizer Tests (ignore)"
      ]
    },
    {
      "cell_type": "code",
      "execution_count": null,
      "metadata": {
        "id": "CGORKcYvEy9o"
      },
      "outputs": [],
      "source": [
        "# These code blocks were only to test and understand how to manage the multilabel binarizer\n",
        "\n",
        "genre = dataset.loc['genre']\n",
        "mlb = MultiLabelBinarizer()\n",
        "\n",
        "labels = mlb.fit_transform(genre)\n",
        "\n",
        "genres = []\n",
        "for b in labels:\n",
        "  genres.append(sum(val*(2**idx) for idx, val in enumerate(reversed(b))))\n",
        "\n",
        "dura = np.array(list(dataset.loc['duration']))\n",
        "year = np.array(list(dataset.loc['year']))\n",
        "key = np.array(list(dataset.loc['key']))\n",
        "val = np.array(list(dataset.loc['valence']))\n",
        "arou = np.array(list(dataset.loc['arousal']))\n",
        "genres = np.array(genres)"
      ]
    },
    {
      "cell_type": "code",
      "execution_count": null,
      "metadata": {
        "id": "BwOfxVwJ_g4v"
      },
      "outputs": [],
      "source": [
        "complete_genre = tracks_dataset.loc['genre']\n",
        "mlb = MultiLabelBinarizer()\n",
        "\n",
        "labels = mlb.fit_transform(complete_genre)\n",
        "\n",
        "complete_genres = []\n",
        "for b in labels:\n",
        "  complete_genres.append(sum(val*(2**idx) for idx, val in enumerate(reversed(b))))\n",
        "\n",
        "complete_genres = np.array(complete_genres)"
      ]
    },
    {
      "cell_type": "code",
      "execution_count": null,
      "metadata": {
        "id": "oZLqBIeLOv5G"
      },
      "outputs": [],
      "source": [
        "X = np.zeros((22492, 6))\n",
        "for i in range(len(dura)):\n",
        "  X[i] = np.array([dura[i], year[i], key[i], val[i], arou[i], genres[i]])"
      ]
    },
    {
      "cell_type": "markdown",
      "metadata": {
        "id": "h6GBcipQIr88"
      },
      "source": [
        "### Clustering training"
      ]
    },
    {
      "cell_type": "code",
      "execution_count": null,
      "metadata": {
        "id": "D7WPG0XwD-Kj"
      },
      "outputs": [],
      "source": [
        "#################\n",
        "# K-Means Model #\n",
        "#################\n",
        "\n",
        "# Models used to be trained on a value called X that was previously defined as the tracks's training dataset part.\n",
        "# However, once I was done with training and started working on the API implementation, I sorted a lot of the code and chose (arguably) better variable names.\n",
        "# Later on, since the initialization code from the API was cleaner, I moved it inside the colab and hence lost some variables that I wasn't using anymore, including X.\n",
        "\n",
        "kmean_model = Pipeline([('scaler', StandardScaler()), ('kmeans', KMeans(n_clusters=5, verbose=2))], verbose=True)\n",
        "#X = list(dataset.loc['representations']) # To train only on representations\n",
        "kmean_model.fit(X)"
      ]
    },
    {
      "cell_type": "code",
      "execution_count": null,
      "metadata": {
        "id": "GXbW6AhYWDGR"
      },
      "outputs": [],
      "source": [
        "#############\n",
        "# GMM Model #\n",
        "#############\n",
        "\n",
        "gmm_model = Pipeline([('scaler', StandardScaler()), ('gmm', GaussianMixture(n_components=17, covariance_type='full', verbose=2))], verbose=True)\n",
        "#X = list(dataset.loc['representations']) # To train only on representations\n",
        "gmm_model.fit(X)"
      ]
    },
    {
      "cell_type": "code",
      "execution_count": null,
      "metadata": {
        "colab": {
          "base_uri": "https://localhost:8080/"
        },
        "id": "C1MUWKOHImXX",
        "outputId": "f24aa427-2ceb-4688-a3a4-de4f721ab53f"
      },
      "outputs": [
        {
          "data": {
            "text/plain": [
              "['Features_GMM_Model.joblib']"
            ]
          },
          "execution_count": 83,
          "metadata": {},
          "output_type": "execute_result"
        }
      ],
      "source": [
        "from joblib import dump\n",
        "\n",
        "# Save model\n",
        "dump(gmm_model, 'Features_GMM_Model.joblib')"
      ]
    },
    {
      "cell_type": "code",
      "execution_count": null,
      "metadata": {
        "id": "5BJP0MsvJGQp"
      },
      "outputs": [],
      "source": [
        "from joblib import load\n",
        "\n",
        "# Load models\n",
        "reps_gmm_model = load('/content/drive/MyDrive/Models/Datasets/MTG-Jamendo/Reps_GMM_Model.joblib')\n",
        "features_gmm_model = load('/content/drive/MyDrive/Models/Datasets/MTG-Jamendo/Feature_GMM_Model.joblib')"
      ]
    },
    {
      "cell_type": "markdown",
      "metadata": {
        "id": "IkVVpfuDtPzD"
      },
      "source": [
        "### Recommender testing"
      ]
    },
    {
      "cell_type": "code",
      "execution_count": null,
      "metadata": {
        "id": "a0x57-xgH2MT"
      },
      "outputs": [],
      "source": [
        "#################\n",
        "# Testing block #\n",
        "#################\n",
        "\n",
        "# THIS ISN'T FOR EVALUATION, ONLY TESTING\n",
        "# This block is mostly taken from the API implementation\n",
        "# Real testing can be carried out at https://muse.augustindirand.com\n",
        "\n",
        "track_ids = ['1410138', '0082808', '1415940']\n",
        "n_songs = 5\n",
        "\n",
        "# ---- Using Representations ---------------\n",
        "centers = []\n",
        "for input in track_ids:\n",
        "  centers.append(tracks_dataset[input]['representations'])\n",
        "\n",
        "song_center = np.mean(np.array(centers), axis=0)\n",
        "\n",
        "scaler = reps_gmm_model.steps[0][1]\n",
        "scaled_data = scaler.transform(list(dataset.loc['representations']))\n",
        "scaled_song_center = scaler.transform(song_center.reshape(1, -1))\n",
        "\n",
        "\n",
        "dist = cosine_similarity(scaled_song_center, scaled_data)\n",
        "\n",
        "index = list(np.argsort(dist)[:,:n_songs][0])\n",
        "\n",
        "reps_recs = []\n",
        "\n",
        "print(\"---- Reps ----\")\n",
        "for idx in index:\n",
        "  rec_id = str(list(tracks_dataset)[idx])\n",
        "  print(tracks[rec_id]['title'])\n",
        "\n",
        "# ---- Using Features ----------------------\n",
        "centers = []\n",
        "for input in track_ids:\n",
        "  song_idx = loc_dataset.index.get_loc(input)\n",
        "  center = np.array([tracks_dataset.loc['duration'][input], tracks_dataset.loc['year'][input],\n",
        "                     tracks_dataset.loc['key'][input], tracks_dataset.loc['valence'][input],\n",
        "                     tracks_dataset.loc['arousal'][input], genre_dataset[song_idx]])\n",
        "  centers.append(center)\n",
        "\n",
        "song_center = np.mean(np.array(centers), axis=0)\n",
        "\n",
        "scaler = features_gmm_model.steps[0][1]\n",
        "scaled_data = scaler.transform(feature_dataset)\n",
        "scaled_song_center = scaler.transform(song_center.reshape(1, -1))\n",
        "\n",
        "\n",
        "dist = cosine_similarity(scaled_song_center, scaled_data)\n",
        "\n",
        "index = list(np.argsort(dist)[:,:n_songs][0])\n",
        "\n",
        "feature_recs = []\n",
        "\n",
        "print(\"\\n---- Features ----\")\n",
        "for idx in index:\n",
        "  rec_id = str(list(tracks_dataset)[idx])\n",
        "  print(tracks[rec_id]['title'])"
      ]
    },
    {
      "cell_type": "markdown",
      "metadata": {
        "id": "wsLV0E9duY2W"
      },
      "source": [
        "### Recommender evaluation"
      ]
    },
    {
      "cell_type": "code",
      "execution_count": null,
      "metadata": {
        "id": "_KSz8a2sJ4Ww"
      },
      "outputs": [],
      "source": [
        "\"\"\"\n",
        "# Normalize similarity score based on local experiments\n",
        "def norma(x):\n",
        "  return (x - 0.02) / (0.2537313432835821 - 0.02)\n",
        "\"\"\"\n",
        "\n",
        "# Similarity score calculation based on zip sizes (and reference [31] from my report)\n",
        "def sim_score(x1, x2):\n",
        "  track_0 = '/content/JamendoAudio/'+str(x1)+'.low.mp3'\n",
        "  track_1 = '/content/JamendoAudio/'+str(x2)+'.low.mp3'\n",
        "\n",
        "  Cx1 = len(gzip.compress(track_0.encode()))\n",
        "  Cx2 = len(gzip.compress(track_1.encode()))\n",
        "\n",
        "  x1x2 = \" \".join([track_0, track_1])\n",
        "  Cx1x2 = len(gzip.compress(x1x2.encode()))\n",
        "\n",
        "  score = (Cx1x2 - min(Cx1, Cx2)) / max(Cx1, Cx2)\n",
        "\n",
        "  return score\n",
        "\n",
        "\n",
        "loc_dataset = tracks_dataset.loc['title']\n",
        "####################\n",
        "# Evaluation block #\n",
        "####################\n",
        "n_songs = 3\n",
        "score = []\n",
        "\n",
        "for track_id in split:\n",
        "  input_track = \"{:07d}\".format(int(track_id))\n",
        "\n",
        "  song_idx = loc_dataset.index.get_loc(input_track)\n",
        "  song_center = np.array([tracks_dataset.loc['duration'][input_track], tracks_dataset.loc['year'][input_track],\n",
        "                          tracks_dataset.loc['key'][input_track], tracks_dataset.loc['valence'][input_track],\n",
        "                          tracks_dataset.loc['arousal'][input_track], complete_genres[song_idx]])\n",
        "  #song_center = tracks_dataset[input_track]['representations']\n",
        "\n",
        "  scaler = kmean_model.steps[0][1]\n",
        "  scaled_data = scaler.transform(X)\n",
        "  scaled_song_center = scaler.transform(song_center.reshape(1, -1))\n",
        "\n",
        "\n",
        "  dist = cosine_similarity(scaled_song_center, scaled_data)\n",
        "\n",
        "  index = list(np.argsort(dist)[:,:n_songs][0])\n",
        "\n",
        "  loc_score = []\n",
        "\n",
        "  for idx in index:\n",
        "    rec_id = str(list(tracks_dataset)[idx])\n",
        "    loc_score.append(sim_score(track_id, int(rec_id)))\n",
        "\n",
        "  score.append(np.mean(np.array(loc_score)))"
      ]
    },
    {
      "cell_type": "code",
      "execution_count": null,
      "metadata": {
        "colab": {
          "base_uri": "https://localhost:8080/",
          "height": 449
        },
        "id": "OuOac81wcb4X",
        "outputId": "97dc461f-1145-4ce9-844a-abd02596bea6"
      },
      "outputs": [
        {
          "data": {
            "image/png": "[encoded data removed]",
            "text/plain": [
              "<Figure size 640x480 with 1 Axes>"
            ]
          },
          "metadata": {},
          "output_type": "display_data"
        }
      ],
      "source": [
        "counts, bins = np.histogram(score)\n",
        "\n",
        "plt.xlabel(\"Similarity Score\")\n",
        "plt.ylabel(\"Song Number\")\n",
        "plt.hist(bins[:-1], bins, weights=counts)\n",
        "plt.show()"
      ]
    },
    {
      "cell_type": "code",
      "execution_count": null,
      "metadata": {
        "colab": {
          "base_uri": "https://localhost:8080/"
        },
        "id": "43todVWbeA-q",
        "outputId": "cc6a9708-2b49-4acb-bc4e-30d3a58c8956"
      },
      "outputs": [
        {
          "name": "stdout",
          "output_type": "stream",
          "text": [
            "Max: 0.2722222222222222\n",
            "\n",
            "Min: 0.2222222222222222\n",
            "\n",
            "Avg: 0.25962900043064996\n"
          ]
        }
      ],
      "source": [
        "print(\"Max: {}\".format(max(score)))\n",
        "print(\"\\nMin: {}\".format(min(score)))\n",
        "print(\"\\nAvg: {}\".format(np.mean(np.array(score))))"
      ]
    }
  ],
  "metadata": {
    "colab": {
      "collapsed_sections": [
        "oguqOB_AprpT",
        "oTpvg8QjnUHn",
        "EcocTOanebnN",
        "fMdRmqRaoKyI",
        "OGmbTAVgZfrY",
        "p-3rsK49ZqXc",
        "1BMUbgiH9jVu",
        "cDzeQBsaAo3w",
        "0CH0vd_TTjFI",
        "ofsJUE-UEeSC",
        "oCQe70aWhuki",
        "yseUv3psETON",
        "dH-kEMGYCqtT",
        "WIRDMYCeCu00",
        "dnm07FJKaK-B",
        "PcE3vodxCCYi",
        "eFRUq9nxj2e6",
        "h232yvDRkEm-",
        "ICyYuHy6CPVR",
        "uOf_fHcrCPVX",
        "f0RYXmqM6bvV",
        "UZmfGv4xNTwA",
        "RZoZDSNdNWqR"
      ],
      "provenance": []
    },
    "kernelspec": {
      "display_name": "Python 3",
      "name": "python3"
    },
    "language_info": {
      "name": "python"
    }
  },
  "nbformat": 4,
  "nbformat_minor": 0
}
